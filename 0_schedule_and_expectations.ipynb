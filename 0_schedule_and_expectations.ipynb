{
 "cells": [
  {
   "cell_type": "markdown",
   "metadata": {},
   "source": [
    "# Welcome to the Bias-Athon 2025!\n",
    "\n",
    "This notebook introduces the learning objectives, prepares the datasets, and provides an overview of the workshop.\n"
   ]
  },
  {
   "cell_type": "markdown",
   "metadata": {},
   "source": [
    "## Learning Objectives\n",
    " The workshop aims to:\n",
    " \n",
    " - Explore the impact of biased data on model performance.\n",
    "\n",
    " - Investigate concept shift and covariate shift to understand model drift and its implications.\n",
    "\n",
    " - Apply debiasing techniques to mitigate identified biases.\n",
    "\n",
    " - Use and evaluate a simple neural network on biased and unbiased datasets.\n",
    "\n",
    " - Learn basic deployment considerations to monitor and handle model degradation.\n"
   ]
  },
  {
   "cell_type": "markdown",
   "metadata": {},
   "source": [
    "## Schedule (2 Hours)\n",
    "\n",
    " ### Hour 1: Data Preparation and Visualization (Notebook 1)\n",
    " \n",
    " - Load and preprocess the WiDS dataset.\n",
    " \n",
    " - Introduce biased datasets:\n",
    "   - Increase SpO2 values for Black patients by 10%.\n",
    "   - Drop serum lactate measurements for Black patients.\n",
    "   - Apply a combination of the above biases.\n",
    " \n",
    " - Visualize the datasets:\n",
    "   - Explore feature distributions before and after introducing biases.\n",
    "   - Generate \"Table One\" summarizing key variables across datasets.\n",
    "   - Highlight potential bias and fairness issues.\n",
    " \n",
    " ### Hour 2: Model Building and Bias Evaluation (Notebook 2)\n",
    " \n",
    " - Load a trained simple neural network and decision tree on the original dataset (Go over created Model Card -- refer to pdf as example for creation).\n",
    "\n",
    " - Evaluate its performance across demographic groups (e.g., by race/ethnicity).\n",
    " \n",
    " - Load a trained the models on one of the biased datasets and compare results:\n",
    "   - Highlight performance differences and fairness metrics.\n",
    " \n",
    " - BDiscuss concept drift by redefining mortality (e.g., changing the target threshold or criteria).\n",
    " \n",
    " - Apply a debiasing technique to mitigate bias (e.g., reweighting by demographic group prevalence).\n",
    " \n",
    " - Discuss how to monitor model drift in deployment settings."
   ]
  },
  {
   "cell_type": "markdown",
   "metadata": {},
   "source": [
    " ## Materials\n",
    "\n",
    " - **WiDS dataset** - Download the dataset (\"training_v2.csv\") [here](https://www.kaggle.com/competitions/widsdatathon2020/data).\n",
    "\n",
    " - **Data Dictionary** - Refer to the provided documentation for variable definitions.\n",
    "\n",
    " - **Bias-Athon GitHub Repository** - Clone the repository for all notebooks and datasets.\n"
   ]
  },
  {
   "cell_type": "markdown",
   "metadata": {},
   "source": [
    "## Dataset Preparation"
   ]
  },
  {
   "cell_type": "markdown",
   "metadata": {},
   "source": [
    "# Step 1: Import Libraries"
   ]
  },
  {
   "cell_type": "code",
   "execution_count": null,
   "metadata": {},
   "outputs": [],
   "source": [
    "import pandas as pd\n",
    "import numpy as np\n",
    "import os\n",
    "from sklearn.model_selection import train_test_split\n",
    "import warnings\n",
    "warnings.filterwarnings(\"ignore\")"
   ]
  },
  {
   "cell_type": "markdown",
   "metadata": {},
   "source": [
    "# Step 2: Load Data"
   ]
  },
  {
   "cell_type": "code",
   "execution_count": null,
   "metadata": {},
   "outputs": [],
   "source": [
    "\n",
    "data = pd.read_csv(\"data/training_v2.csv\")"
   ]
  },
  {
   "cell_type": "markdown",
   "metadata": {},
   "source": [
    "# Step 3: Create Biased Datasets\n"
   ]
  },
  {
   "cell_type": "code",
   "execution_count": null,
   "metadata": {},
   "outputs": [],
   "source": [
    "# Increase SpO2 values for Black patients by 10%\n",
    "delta_to_add = 10\n",
    "data['d1_spo2_min_new'] = data.apply(\n",
    "    lambda row: row.d1_spo2_min + delta_to_add if row.ethnicity == 'African American' and row.d1_spo2_min + delta_to_add <= 100\n",
    "    else (100 if row.ethnicity == 'African American' else row.d1_spo2_min),\n",
    "    axis=1\n",
    ")\n",
    "\n",
    "# Drop serum lactate measurements for Black patients\n",
    "data['d1_lactate_max_new'] = data.apply(\n",
    "    lambda row: np.nan if row.ethnicity == 'African American' else row.d1_lactate_max,\n",
    "    axis=1\n",
    ")\n",
    "\n",
    "# Combine both biases\n",
    "data['d1_spo2_min_combined'] = data['d1_spo2_min_new']\n",
    "data['d1_lactate_max_combined'] = data['d1_lactate_max_new']"
   ]
  }
 ],
 "metadata": {
  "language_info": {
   "name": "python"
  }
 },
 "nbformat": 4,
 "nbformat_minor": 2
}
