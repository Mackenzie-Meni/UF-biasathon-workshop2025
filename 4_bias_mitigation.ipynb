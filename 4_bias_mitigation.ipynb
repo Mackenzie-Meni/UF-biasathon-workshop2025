{
 "cells": [
  {
   "cell_type": "markdown",
   "metadata": {},
   "source": [
    "# Data Balancing and Bias Mitigation Strategies\n",
    "\n",
    "**Dataset:** Women in Data Science (91,713 encounters)  \n",
    "**Task:** Understanding Data  \n",
    "**Date:** February 17, 2025  \n",
    "**Authors:** Mackenzie Meni & Jeremy Balch"
   ]
  },
  {
   "cell_type": "markdown",
   "metadata": {},
   "source": [
    "### To Do List\n",
    "\n",
    "- [x] Upsampling and downsampling and assess performance by category  \n",
    "- [ ] Debiasing strategies  \n",
    "- [x] Switch model architecture (RF, XGBoost, etc.)  \n",
    "- [ ] Switch feature set (use all features, use subset of features)  \n",
    "- [x] Switch evaluation metric (AUROC, Accuracy, etc.)  \n",
    "- [x] Bootstrap for confidence intervals \n"
   ]
  },
  {
   "cell_type": "markdown",
   "metadata": {},
   "source": [
    "# Import all necessary packages"
   ]
  },
  {
   "cell_type": "code",
   "execution_count": 1,
   "metadata": {},
   "outputs": [],
   "source": [
    "import pandas as pd\n",
    "import numpy as np\n",
    "import matplotlib.pyplot as plt\n",
    "from tableone import TableOne\n",
    "import warnings\n",
    "from sklearn.model_selection import train_test_split\n",
    "import joblib\n",
    "import seaborn as sns\n",
    "from sklearn.metrics import roc_auc_score, accuracy_score, classification_report, confusion_matrix\n",
    "from sklearn.ensemble import RandomForestClassifier\n",
    "\n",
    "\n",
    "warnings.filterwarnings(\"ignore\")\n"
   ]
  },
  {
   "cell_type": "markdown",
   "metadata": {},
   "source": [
    "# Load all data"
   ]
  },
  {
   "cell_type": "code",
   "execution_count": 5,
   "metadata": {},
   "outputs": [],
   "source": [
    "# Loading original dataset\n",
    "original_data = pd.read_csv('../preprocessed_data.csv')\n",
    "\n",
    "# Loading altered dataset\n",
    "data_altered_complete = pd.read_csv('../data_altered_complete.csv')"
   ]
  },
  {
   "cell_type": "markdown",
   "metadata": {},
   "source": [
    "# Loading the models for comparison"
   ]
  },
  {
   "cell_type": "code",
   "execution_count": 6,
   "metadata": {},
   "outputs": [],
   "source": [
    "# Random Forest Original\n",
    "original_rf_loaded = joblib.load(\"../original_data_random_forest_model.pkl\")\n",
    "\n",
    "# Random Forest Altered 20% African American\n",
    "altered_rf_loaded = joblib.load(\"../altered_rf_model.pkl\")\n",
    "\n",
    "# Random Forest Altered 80% Female"
   ]
  },
  {
   "cell_type": "markdown",
   "metadata": {},
   "source": [
    "# Random Forest Model with upsampled data"
   ]
  },
  {
   "cell_type": "markdown",
   "metadata": {},
   "source": [
    "## Train/Test Split for Upsampling\n",
    "\n",
    "- With stratify=y, both train and test sets will preserve the ratio of the classes from the original data, making the results more representative and the model's performance more reliable."
   ]
  },
  {
   "cell_type": "code",
   "execution_count": 7,
   "metadata": {},
   "outputs": [],
   "source": [
    "data = original_data\n",
    "\n",
    "# Drop unnecessary columns\n",
    "data = data.drop(columns=['gender_M', 'ethnicity_Other/Unknown'])\n",
    "\n",
    "# Define features and target\n",
    "X = data.drop(columns=['hospital_death'])\n",
    "y = data['hospital_death']\n",
    "\n",
    "# Split data first (before upsampling)\n",
    "X_train, X_test, y_train, y_test = train_test_split(X, y, test_size=0.2, random_state=42, stratify=y)\n"
   ]
  },
  {
   "cell_type": "code",
   "execution_count": 8,
   "metadata": {},
   "outputs": [
    {
     "ename": "KeyboardInterrupt",
     "evalue": "",
     "output_type": "error",
     "traceback": [
      "\u001b[0;31m---------------------------------------------------------------------------\u001b[0m",
      "\u001b[0;31mKeyboardInterrupt\u001b[0m                         Traceback (most recent call last)",
      "Cell \u001b[0;32mIn[8], line 5\u001b[0m\n\u001b[1;32m      3\u001b[0m \u001b[38;5;66;03m# Assign class weights automatically (higher weight for underrepresented class)\u001b[39;00m\n\u001b[1;32m      4\u001b[0m rf_model_balanced \u001b[38;5;241m=\u001b[39m RandomForestClassifier(n_estimators\u001b[38;5;241m=\u001b[39m\u001b[38;5;241m100\u001b[39m, random_state\u001b[38;5;241m=\u001b[39m\u001b[38;5;241m42\u001b[39m, class_weight\u001b[38;5;241m=\u001b[39m\u001b[38;5;124m\"\u001b[39m\u001b[38;5;124mbalanced\u001b[39m\u001b[38;5;124m\"\u001b[39m)\n\u001b[0;32m----> 5\u001b[0m \u001b[43mrf_model_balanced\u001b[49m\u001b[38;5;241;43m.\u001b[39;49m\u001b[43mfit\u001b[49m\u001b[43m(\u001b[49m\u001b[43mX_train\u001b[49m\u001b[43m,\u001b[49m\u001b[43m \u001b[49m\u001b[43my_train\u001b[49m\u001b[43m)\u001b[49m\n\u001b[1;32m      7\u001b[0m \u001b[38;5;66;03m# Make predictions\u001b[39;00m\n\u001b[1;32m      8\u001b[0m y_pred \u001b[38;5;241m=\u001b[39m rf_model_balanced\u001b[38;5;241m.\u001b[39mpredict(X_test)\n",
      "File \u001b[0;32m/opt/anaconda3/envs/MLClass/lib/python3.12/site-packages/sklearn/base.py:1389\u001b[0m, in \u001b[0;36m_fit_context.<locals>.decorator.<locals>.wrapper\u001b[0;34m(estimator, *args, **kwargs)\u001b[0m\n\u001b[1;32m   1382\u001b[0m     estimator\u001b[38;5;241m.\u001b[39m_validate_params()\n\u001b[1;32m   1384\u001b[0m \u001b[38;5;28;01mwith\u001b[39;00m config_context(\n\u001b[1;32m   1385\u001b[0m     skip_parameter_validation\u001b[38;5;241m=\u001b[39m(\n\u001b[1;32m   1386\u001b[0m         prefer_skip_nested_validation \u001b[38;5;129;01mor\u001b[39;00m global_skip_validation\n\u001b[1;32m   1387\u001b[0m     )\n\u001b[1;32m   1388\u001b[0m ):\n\u001b[0;32m-> 1389\u001b[0m     \u001b[38;5;28;01mreturn\u001b[39;00m \u001b[43mfit_method\u001b[49m\u001b[43m(\u001b[49m\u001b[43mestimator\u001b[49m\u001b[43m,\u001b[49m\u001b[43m \u001b[49m\u001b[38;5;241;43m*\u001b[39;49m\u001b[43margs\u001b[49m\u001b[43m,\u001b[49m\u001b[43m \u001b[49m\u001b[38;5;241;43m*\u001b[39;49m\u001b[38;5;241;43m*\u001b[39;49m\u001b[43mkwargs\u001b[49m\u001b[43m)\u001b[49m\n",
      "File \u001b[0;32m/opt/anaconda3/envs/MLClass/lib/python3.12/site-packages/sklearn/ensemble/_forest.py:487\u001b[0m, in \u001b[0;36mBaseForest.fit\u001b[0;34m(self, X, y, sample_weight)\u001b[0m\n\u001b[1;32m    476\u001b[0m trees \u001b[38;5;241m=\u001b[39m [\n\u001b[1;32m    477\u001b[0m     \u001b[38;5;28mself\u001b[39m\u001b[38;5;241m.\u001b[39m_make_estimator(append\u001b[38;5;241m=\u001b[39m\u001b[38;5;28;01mFalse\u001b[39;00m, random_state\u001b[38;5;241m=\u001b[39mrandom_state)\n\u001b[1;32m    478\u001b[0m     \u001b[38;5;28;01mfor\u001b[39;00m i \u001b[38;5;129;01min\u001b[39;00m \u001b[38;5;28mrange\u001b[39m(n_more_estimators)\n\u001b[1;32m    479\u001b[0m ]\n\u001b[1;32m    481\u001b[0m \u001b[38;5;66;03m# Parallel loop: we prefer the threading backend as the Cython code\u001b[39;00m\n\u001b[1;32m    482\u001b[0m \u001b[38;5;66;03m# for fitting the trees is internally releasing the Python GIL\u001b[39;00m\n\u001b[1;32m    483\u001b[0m \u001b[38;5;66;03m# making threading more efficient than multiprocessing in\u001b[39;00m\n\u001b[1;32m    484\u001b[0m \u001b[38;5;66;03m# that case. However, for joblib 0.12+ we respect any\u001b[39;00m\n\u001b[1;32m    485\u001b[0m \u001b[38;5;66;03m# parallel_backend contexts set at a higher level,\u001b[39;00m\n\u001b[1;32m    486\u001b[0m \u001b[38;5;66;03m# since correctness does not rely on using threads.\u001b[39;00m\n\u001b[0;32m--> 487\u001b[0m trees \u001b[38;5;241m=\u001b[39m \u001b[43mParallel\u001b[49m\u001b[43m(\u001b[49m\n\u001b[1;32m    488\u001b[0m \u001b[43m    \u001b[49m\u001b[43mn_jobs\u001b[49m\u001b[38;5;241;43m=\u001b[39;49m\u001b[38;5;28;43mself\u001b[39;49m\u001b[38;5;241;43m.\u001b[39;49m\u001b[43mn_jobs\u001b[49m\u001b[43m,\u001b[49m\n\u001b[1;32m    489\u001b[0m \u001b[43m    \u001b[49m\u001b[43mverbose\u001b[49m\u001b[38;5;241;43m=\u001b[39;49m\u001b[38;5;28;43mself\u001b[39;49m\u001b[38;5;241;43m.\u001b[39;49m\u001b[43mverbose\u001b[49m\u001b[43m,\u001b[49m\n\u001b[1;32m    490\u001b[0m \u001b[43m    \u001b[49m\u001b[43mprefer\u001b[49m\u001b[38;5;241;43m=\u001b[39;49m\u001b[38;5;124;43m\"\u001b[39;49m\u001b[38;5;124;43mthreads\u001b[39;49m\u001b[38;5;124;43m\"\u001b[39;49m\u001b[43m,\u001b[49m\n\u001b[1;32m    491\u001b[0m \u001b[43m\u001b[49m\u001b[43m)\u001b[49m\u001b[43m(\u001b[49m\n\u001b[1;32m    492\u001b[0m \u001b[43m    \u001b[49m\u001b[43mdelayed\u001b[49m\u001b[43m(\u001b[49m\u001b[43m_parallel_build_trees\u001b[49m\u001b[43m)\u001b[49m\u001b[43m(\u001b[49m\n\u001b[1;32m    493\u001b[0m \u001b[43m        \u001b[49m\u001b[43mt\u001b[49m\u001b[43m,\u001b[49m\n\u001b[1;32m    494\u001b[0m \u001b[43m        \u001b[49m\u001b[38;5;28;43mself\u001b[39;49m\u001b[38;5;241;43m.\u001b[39;49m\u001b[43mbootstrap\u001b[49m\u001b[43m,\u001b[49m\n\u001b[1;32m    495\u001b[0m \u001b[43m        \u001b[49m\u001b[43mX\u001b[49m\u001b[43m,\u001b[49m\n\u001b[1;32m    496\u001b[0m \u001b[43m        \u001b[49m\u001b[43my\u001b[49m\u001b[43m,\u001b[49m\n\u001b[1;32m    497\u001b[0m \u001b[43m        \u001b[49m\u001b[43msample_weight\u001b[49m\u001b[43m,\u001b[49m\n\u001b[1;32m    498\u001b[0m \u001b[43m        \u001b[49m\u001b[43mi\u001b[49m\u001b[43m,\u001b[49m\n\u001b[1;32m    499\u001b[0m \u001b[43m        \u001b[49m\u001b[38;5;28;43mlen\u001b[39;49m\u001b[43m(\u001b[49m\u001b[43mtrees\u001b[49m\u001b[43m)\u001b[49m\u001b[43m,\u001b[49m\n\u001b[1;32m    500\u001b[0m \u001b[43m        \u001b[49m\u001b[43mverbose\u001b[49m\u001b[38;5;241;43m=\u001b[39;49m\u001b[38;5;28;43mself\u001b[39;49m\u001b[38;5;241;43m.\u001b[39;49m\u001b[43mverbose\u001b[49m\u001b[43m,\u001b[49m\n\u001b[1;32m    501\u001b[0m \u001b[43m        \u001b[49m\u001b[43mclass_weight\u001b[49m\u001b[38;5;241;43m=\u001b[39;49m\u001b[38;5;28;43mself\u001b[39;49m\u001b[38;5;241;43m.\u001b[39;49m\u001b[43mclass_weight\u001b[49m\u001b[43m,\u001b[49m\n\u001b[1;32m    502\u001b[0m \u001b[43m        \u001b[49m\u001b[43mn_samples_bootstrap\u001b[49m\u001b[38;5;241;43m=\u001b[39;49m\u001b[43mn_samples_bootstrap\u001b[49m\u001b[43m,\u001b[49m\n\u001b[1;32m    503\u001b[0m \u001b[43m        \u001b[49m\u001b[43mmissing_values_in_feature_mask\u001b[49m\u001b[38;5;241;43m=\u001b[39;49m\u001b[43mmissing_values_in_feature_mask\u001b[49m\u001b[43m,\u001b[49m\n\u001b[1;32m    504\u001b[0m \u001b[43m    \u001b[49m\u001b[43m)\u001b[49m\n\u001b[1;32m    505\u001b[0m \u001b[43m    \u001b[49m\u001b[38;5;28;43;01mfor\u001b[39;49;00m\u001b[43m \u001b[49m\u001b[43mi\u001b[49m\u001b[43m,\u001b[49m\u001b[43m \u001b[49m\u001b[43mt\u001b[49m\u001b[43m \u001b[49m\u001b[38;5;129;43;01min\u001b[39;49;00m\u001b[43m \u001b[49m\u001b[38;5;28;43menumerate\u001b[39;49m\u001b[43m(\u001b[49m\u001b[43mtrees\u001b[49m\u001b[43m)\u001b[49m\n\u001b[1;32m    506\u001b[0m \u001b[43m\u001b[49m\u001b[43m)\u001b[49m\n\u001b[1;32m    508\u001b[0m \u001b[38;5;66;03m# Collect newly grown trees\u001b[39;00m\n\u001b[1;32m    509\u001b[0m \u001b[38;5;28mself\u001b[39m\u001b[38;5;241m.\u001b[39mestimators_\u001b[38;5;241m.\u001b[39mextend(trees)\n",
      "File \u001b[0;32m/opt/anaconda3/envs/MLClass/lib/python3.12/site-packages/sklearn/utils/parallel.py:77\u001b[0m, in \u001b[0;36mParallel.__call__\u001b[0;34m(self, iterable)\u001b[0m\n\u001b[1;32m     72\u001b[0m config \u001b[38;5;241m=\u001b[39m get_config()\n\u001b[1;32m     73\u001b[0m iterable_with_config \u001b[38;5;241m=\u001b[39m (\n\u001b[1;32m     74\u001b[0m     (_with_config(delayed_func, config), args, kwargs)\n\u001b[1;32m     75\u001b[0m     \u001b[38;5;28;01mfor\u001b[39;00m delayed_func, args, kwargs \u001b[38;5;129;01min\u001b[39;00m iterable\n\u001b[1;32m     76\u001b[0m )\n\u001b[0;32m---> 77\u001b[0m \u001b[38;5;28;01mreturn\u001b[39;00m \u001b[38;5;28;43msuper\u001b[39;49m\u001b[43m(\u001b[49m\u001b[43m)\u001b[49m\u001b[38;5;241;43m.\u001b[39;49m\u001b[38;5;21;43m__call__\u001b[39;49m\u001b[43m(\u001b[49m\u001b[43miterable_with_config\u001b[49m\u001b[43m)\u001b[49m\n",
      "File \u001b[0;32m/opt/anaconda3/envs/MLClass/lib/python3.12/site-packages/joblib/parallel.py:1918\u001b[0m, in \u001b[0;36mParallel.__call__\u001b[0;34m(self, iterable)\u001b[0m\n\u001b[1;32m   1916\u001b[0m     output \u001b[38;5;241m=\u001b[39m \u001b[38;5;28mself\u001b[39m\u001b[38;5;241m.\u001b[39m_get_sequential_output(iterable)\n\u001b[1;32m   1917\u001b[0m     \u001b[38;5;28mnext\u001b[39m(output)\n\u001b[0;32m-> 1918\u001b[0m     \u001b[38;5;28;01mreturn\u001b[39;00m output \u001b[38;5;28;01mif\u001b[39;00m \u001b[38;5;28mself\u001b[39m\u001b[38;5;241m.\u001b[39mreturn_generator \u001b[38;5;28;01melse\u001b[39;00m \u001b[38;5;28;43mlist\u001b[39;49m\u001b[43m(\u001b[49m\u001b[43moutput\u001b[49m\u001b[43m)\u001b[49m\n\u001b[1;32m   1920\u001b[0m \u001b[38;5;66;03m# Let's create an ID that uniquely identifies the current call. If the\u001b[39;00m\n\u001b[1;32m   1921\u001b[0m \u001b[38;5;66;03m# call is interrupted early and that the same instance is immediately\u001b[39;00m\n\u001b[1;32m   1922\u001b[0m \u001b[38;5;66;03m# re-used, this id will be used to prevent workers that were\u001b[39;00m\n\u001b[1;32m   1923\u001b[0m \u001b[38;5;66;03m# concurrently finalizing a task from the previous call to run the\u001b[39;00m\n\u001b[1;32m   1924\u001b[0m \u001b[38;5;66;03m# callback.\u001b[39;00m\n\u001b[1;32m   1925\u001b[0m \u001b[38;5;28;01mwith\u001b[39;00m \u001b[38;5;28mself\u001b[39m\u001b[38;5;241m.\u001b[39m_lock:\n",
      "File \u001b[0;32m/opt/anaconda3/envs/MLClass/lib/python3.12/site-packages/joblib/parallel.py:1847\u001b[0m, in \u001b[0;36mParallel._get_sequential_output\u001b[0;34m(self, iterable)\u001b[0m\n\u001b[1;32m   1845\u001b[0m \u001b[38;5;28mself\u001b[39m\u001b[38;5;241m.\u001b[39mn_dispatched_batches \u001b[38;5;241m+\u001b[39m\u001b[38;5;241m=\u001b[39m \u001b[38;5;241m1\u001b[39m\n\u001b[1;32m   1846\u001b[0m \u001b[38;5;28mself\u001b[39m\u001b[38;5;241m.\u001b[39mn_dispatched_tasks \u001b[38;5;241m+\u001b[39m\u001b[38;5;241m=\u001b[39m \u001b[38;5;241m1\u001b[39m\n\u001b[0;32m-> 1847\u001b[0m res \u001b[38;5;241m=\u001b[39m \u001b[43mfunc\u001b[49m\u001b[43m(\u001b[49m\u001b[38;5;241;43m*\u001b[39;49m\u001b[43margs\u001b[49m\u001b[43m,\u001b[49m\u001b[43m \u001b[49m\u001b[38;5;241;43m*\u001b[39;49m\u001b[38;5;241;43m*\u001b[39;49m\u001b[43mkwargs\u001b[49m\u001b[43m)\u001b[49m\n\u001b[1;32m   1848\u001b[0m \u001b[38;5;28mself\u001b[39m\u001b[38;5;241m.\u001b[39mn_completed_tasks \u001b[38;5;241m+\u001b[39m\u001b[38;5;241m=\u001b[39m \u001b[38;5;241m1\u001b[39m\n\u001b[1;32m   1849\u001b[0m \u001b[38;5;28mself\u001b[39m\u001b[38;5;241m.\u001b[39mprint_progress()\n",
      "File \u001b[0;32m/opt/anaconda3/envs/MLClass/lib/python3.12/site-packages/sklearn/utils/parallel.py:139\u001b[0m, in \u001b[0;36m_FuncWrapper.__call__\u001b[0;34m(self, *args, **kwargs)\u001b[0m\n\u001b[1;32m    137\u001b[0m     config \u001b[38;5;241m=\u001b[39m {}\n\u001b[1;32m    138\u001b[0m \u001b[38;5;28;01mwith\u001b[39;00m config_context(\u001b[38;5;241m*\u001b[39m\u001b[38;5;241m*\u001b[39mconfig):\n\u001b[0;32m--> 139\u001b[0m     \u001b[38;5;28;01mreturn\u001b[39;00m \u001b[38;5;28;43mself\u001b[39;49m\u001b[38;5;241;43m.\u001b[39;49m\u001b[43mfunction\u001b[49m\u001b[43m(\u001b[49m\u001b[38;5;241;43m*\u001b[39;49m\u001b[43margs\u001b[49m\u001b[43m,\u001b[49m\u001b[43m \u001b[49m\u001b[38;5;241;43m*\u001b[39;49m\u001b[38;5;241;43m*\u001b[39;49m\u001b[43mkwargs\u001b[49m\u001b[43m)\u001b[49m\n",
      "File \u001b[0;32m/opt/anaconda3/envs/MLClass/lib/python3.12/site-packages/sklearn/ensemble/_forest.py:189\u001b[0m, in \u001b[0;36m_parallel_build_trees\u001b[0;34m(tree, bootstrap, X, y, sample_weight, tree_idx, n_trees, verbose, class_weight, n_samples_bootstrap, missing_values_in_feature_mask)\u001b[0m\n\u001b[1;32m    186\u001b[0m     \u001b[38;5;28;01melif\u001b[39;00m class_weight \u001b[38;5;241m==\u001b[39m \u001b[38;5;124m\"\u001b[39m\u001b[38;5;124mbalanced_subsample\u001b[39m\u001b[38;5;124m\"\u001b[39m:\n\u001b[1;32m    187\u001b[0m         curr_sample_weight \u001b[38;5;241m*\u001b[39m\u001b[38;5;241m=\u001b[39m compute_sample_weight(\u001b[38;5;124m\"\u001b[39m\u001b[38;5;124mbalanced\u001b[39m\u001b[38;5;124m\"\u001b[39m, y, indices\u001b[38;5;241m=\u001b[39mindices)\n\u001b[0;32m--> 189\u001b[0m     \u001b[43mtree\u001b[49m\u001b[38;5;241;43m.\u001b[39;49m\u001b[43m_fit\u001b[49m\u001b[43m(\u001b[49m\n\u001b[1;32m    190\u001b[0m \u001b[43m        \u001b[49m\u001b[43mX\u001b[49m\u001b[43m,\u001b[49m\n\u001b[1;32m    191\u001b[0m \u001b[43m        \u001b[49m\u001b[43my\u001b[49m\u001b[43m,\u001b[49m\n\u001b[1;32m    192\u001b[0m \u001b[43m        \u001b[49m\u001b[43msample_weight\u001b[49m\u001b[38;5;241;43m=\u001b[39;49m\u001b[43mcurr_sample_weight\u001b[49m\u001b[43m,\u001b[49m\n\u001b[1;32m    193\u001b[0m \u001b[43m        \u001b[49m\u001b[43mcheck_input\u001b[49m\u001b[38;5;241;43m=\u001b[39;49m\u001b[38;5;28;43;01mFalse\u001b[39;49;00m\u001b[43m,\u001b[49m\n\u001b[1;32m    194\u001b[0m \u001b[43m        \u001b[49m\u001b[43mmissing_values_in_feature_mask\u001b[49m\u001b[38;5;241;43m=\u001b[39;49m\u001b[43mmissing_values_in_feature_mask\u001b[49m\u001b[43m,\u001b[49m\n\u001b[1;32m    195\u001b[0m \u001b[43m    \u001b[49m\u001b[43m)\u001b[49m\n\u001b[1;32m    196\u001b[0m \u001b[38;5;28;01melse\u001b[39;00m:\n\u001b[1;32m    197\u001b[0m     tree\u001b[38;5;241m.\u001b[39m_fit(\n\u001b[1;32m    198\u001b[0m         X,\n\u001b[1;32m    199\u001b[0m         y,\n\u001b[0;32m   (...)\u001b[0m\n\u001b[1;32m    202\u001b[0m         missing_values_in_feature_mask\u001b[38;5;241m=\u001b[39mmissing_values_in_feature_mask,\n\u001b[1;32m    203\u001b[0m     )\n",
      "File \u001b[0;32m/opt/anaconda3/envs/MLClass/lib/python3.12/site-packages/sklearn/tree/_classes.py:472\u001b[0m, in \u001b[0;36mBaseDecisionTree._fit\u001b[0;34m(self, X, y, sample_weight, check_input, missing_values_in_feature_mask)\u001b[0m\n\u001b[1;32m    461\u001b[0m \u001b[38;5;28;01melse\u001b[39;00m:\n\u001b[1;32m    462\u001b[0m     builder \u001b[38;5;241m=\u001b[39m BestFirstTreeBuilder(\n\u001b[1;32m    463\u001b[0m         splitter,\n\u001b[1;32m    464\u001b[0m         min_samples_split,\n\u001b[0;32m   (...)\u001b[0m\n\u001b[1;32m    469\u001b[0m         \u001b[38;5;28mself\u001b[39m\u001b[38;5;241m.\u001b[39mmin_impurity_decrease,\n\u001b[1;32m    470\u001b[0m     )\n\u001b[0;32m--> 472\u001b[0m \u001b[43mbuilder\u001b[49m\u001b[38;5;241;43m.\u001b[39;49m\u001b[43mbuild\u001b[49m\u001b[43m(\u001b[49m\u001b[38;5;28;43mself\u001b[39;49m\u001b[38;5;241;43m.\u001b[39;49m\u001b[43mtree_\u001b[49m\u001b[43m,\u001b[49m\u001b[43m \u001b[49m\u001b[43mX\u001b[49m\u001b[43m,\u001b[49m\u001b[43m \u001b[49m\u001b[43my\u001b[49m\u001b[43m,\u001b[49m\u001b[43m \u001b[49m\u001b[43msample_weight\u001b[49m\u001b[43m,\u001b[49m\u001b[43m \u001b[49m\u001b[43mmissing_values_in_feature_mask\u001b[49m\u001b[43m)\u001b[49m\n\u001b[1;32m    474\u001b[0m \u001b[38;5;28;01mif\u001b[39;00m \u001b[38;5;28mself\u001b[39m\u001b[38;5;241m.\u001b[39mn_outputs_ \u001b[38;5;241m==\u001b[39m \u001b[38;5;241m1\u001b[39m \u001b[38;5;129;01mand\u001b[39;00m is_classifier(\u001b[38;5;28mself\u001b[39m):\n\u001b[1;32m    475\u001b[0m     \u001b[38;5;28mself\u001b[39m\u001b[38;5;241m.\u001b[39mn_classes_ \u001b[38;5;241m=\u001b[39m \u001b[38;5;28mself\u001b[39m\u001b[38;5;241m.\u001b[39mn_classes_[\u001b[38;5;241m0\u001b[39m]\n",
      "\u001b[0;31mKeyboardInterrupt\u001b[0m: "
     ]
    }
   ],
   "source": [
    "from sklearn.ensemble import RandomForestClassifier\n",
    "\n",
    "# Assign class weights automatically (higher weight for underrepresented class)\n",
    "rf_model_balanced = RandomForestClassifier(n_estimators=100, random_state=42, class_weight=\"balanced\")\n",
    "rf_model_balanced.fit(X_train, y_train)\n",
    "\n",
    "# Make predictions\n",
    "y_pred = rf_model_balanced.predict(X_test)\n",
    "y_pred_proba = rf_model_balanced.predict_proba(X_test)[:, 1]\n",
    "\n",
    "# Evaluate model performance\n",
    "accuracy = accuracy_score(y_test, y_pred)\n",
    "auroc = roc_auc_score(y_test, y_pred_proba)\n",
    "\n",
    "print(f\"Accuracy: {accuracy:.2f}\")\n",
    "print(f\"AUROC: {auroc:.2f}\")\n",
    "print(\"Classification Report:\")\n",
    "print(classification_report(y_test, y_pred))\n",
    "print(\"Confusion Matrix:\")\n",
    "print(confusion_matrix(y_test, y_pred))\n"
   ]
  },
  {
   "cell_type": "markdown",
   "metadata": {},
   "source": [
    "# Upsampling the minority class for prediction\n",
    "\n",
    "This function balances an imbalanced dataset by duplicating (upsampling) the minority class so that it has the same number of samples as the majority class.\n",
    "\n",
    "**🔍 Example Before & After**\n",
    "\n",
    "| Class         | Original Count | After Upsampling |\n",
    "|--------------|---------------|------------------|\n",
    "| Survived (0) | 10,000        | 10,000          |\n",
    "| Died (1)     | 2,000         | 10,000 (upsampled) |\n"
   ]
  },
  {
   "cell_type": "code",
   "execution_count": 22,
   "metadata": {},
   "outputs": [],
   "source": [
    "# **True Upsampling (Duplicate Minority Class)**\n",
    "def upsample_minority(X, y):\n",
    "    df = pd.concat([X, y], axis=1)\n",
    "    \n",
    "    # Separate majority and minority classes\n",
    "    majority = df[df['hospital_death'] == 0]\n",
    "    minority = df[df['hospital_death'] == 1]\n",
    "    \n",
    "    print(majority.shape)\n",
    "    print(minority.shape)\n",
    "    # Upsample the minority class by repeating existing samples\n",
    "    minority_upsampled = minority.sample(n=len(majority), replace=True, random_state=42)\n",
    "\n",
    "    # Combine the upsampled minority class with the majority class\n",
    "    upsampled_df = pd.concat([majority, minority_upsampled])\n",
    "\n",
    "    # Shuffle the dataset to mix samples well\n",
    "    upsampled_df = upsampled_df.sample(frac=1, random_state=42).reset_index(drop=True)\n",
    "\n",
    "    return upsampled_df.drop(columns=['hospital_death']), upsampled_df['hospital_death']"
   ]
  },
  {
   "cell_type": "markdown",
   "metadata": {},
   "source": [
    "# Apply the upsampling and train the Random forest model"
   ]
  },
  {
   "cell_type": "code",
   "execution_count": 23,
   "metadata": {},
   "outputs": [
    {
     "name": "stdout",
     "output_type": "stream",
     "text": [
      "(56842, 39)\n",
      "(5218, 39)\n",
      "Accuracy: 0.92\n",
      "AUROC: 0.83\n",
      "Classification Report:\n",
      "              precision    recall  f1-score   support\n",
      "\n",
      "           0       0.94      0.98      0.96     14210\n",
      "           1       0.52      0.27      0.36      1305\n",
      "\n",
      "    accuracy                           0.92     15515\n",
      "   macro avg       0.73      0.63      0.66     15515\n",
      "weighted avg       0.90      0.92      0.91     15515\n",
      "\n",
      "Confusion Matrix:\n",
      "[[13882   328]\n",
      " [  948   357]]\n"
     ]
    },
    {
     "data": {
      "text/plain": [
       "['../upsampled_random_forest_model.pkl']"
      ]
     },
     "execution_count": 23,
     "metadata": {},
     "output_type": "execute_result"
    }
   ],
   "source": [
    "\n",
    "# Apply upsampling\n",
    "X_train_upsampled, y_train_upsampled = upsample_minority(X_train, y_train)\n",
    "\n",
    "# Train a Random Forest model on upsampled data\n",
    "rf_model = RandomForestClassifier(n_estimators=100, random_state=42)\n",
    "rf_model.fit(X_train_upsampled, y_train_upsampled)\n",
    "\n",
    "# Make predictions\n",
    "y_pred = rf_model.predict(X_test)\n",
    "y_pred_proba = rf_model.predict_proba(X_test)[:, 1]\n",
    "\n",
    "# Evaluate model performance\n",
    "accuracy = accuracy_score(y_test, y_pred)\n",
    "auroc = roc_auc_score(y_test, y_pred_proba)\n",
    "\n",
    "print(f\"Accuracy: {accuracy:.2f}\")\n",
    "print(f\"AUROC: {auroc:.2f}\")\n",
    "print(\"Classification Report:\")\n",
    "print(classification_report(y_test, y_pred))\n",
    "print(\"Confusion Matrix:\")\n",
    "print(confusion_matrix(y_test, y_pred))\n",
    "\n",
    "# Save model\n",
    "joblib.dump(rf_model, \"../upsampled_random_forest_model.pkl\")\n"
   ]
  },
  {
   "cell_type": "markdown",
   "metadata": {},
   "source": [
    "## Upsampled Model Results Summary\n",
    "\n",
    "**Comparison of Original to upsampled**\n",
    "\n",
    "|  | **Original Model** | **Upsampled Model** | **Changes in the Upsampled Model Compared to Original** |\n",
    "|--------------------|----------------|----------------|----------------|\n",
    "| **True Positives (Correct Deaths)** | 269 | **357** | **+88 (Better at catching deaths)** |\n",
    "| **False Negatives (Missed Deaths)** | 1,032 | **948** | **-84 (Fewer missed high-risk patients)** |\n",
    "| **False Positives (Wrongly Predicted Deaths)** | 187 | **328** | **+141 (More cautious in predicting risk)** |\n",
    "| **True Negatives (Correctly Predicted Survivals)** | 14,027 | **13,882** | **-145 (Slight decrease in correctly classified survivals)** |\n",
    "\n",
    "\n",
    "\n",
    "The upsampled model improves detection of high-risk patients by reducing missed deaths (false negatives) from 1,032 to 948 and correctly identifying 88 more deaths than the original model. However, this comes with a trade-off—more false positives, increasing from 187 to 328, meaning the model is now more cautious in predicting risk.\n",
    "\n",
    "Overall, the model prioritizes catching more hospital deaths, which is often preferable in healthcare settings where missing critical cases is riskier than raising extra alerts."
   ]
  },
  {
   "cell_type": "markdown",
   "metadata": {},
   "source": [
    "# Let's try downsampling the majority class instead\n",
    "\n",
    "\n",
    "### Downsampling the Majority Class for Prediction\n",
    "\n",
    "This function balances an imbalanced dataset by reducing (downsampling) the majority class so that it has the same number of samples as the minority class. Instead of adding synthetic or duplicate data, it randomly removes majority-class examples to create a more balanced dataset.\n",
    "\n",
    "🔍 Example Before & After\n",
    "\n",
    "| Class         | Original Count | After Downsampling |\n",
    "|--------------|---------------|------------------|\n",
    "| Survived (0) | 10,000        | 2,000  (downsampled) |\n",
    "| Died (1)     | 2,000         | 2,000  |\n",
    "\n",
    "\n",
    "This method helps prevent the model from overfitting to the majority class while ensuring that both classes are treated equally during training."
   ]
  },
  {
   "cell_type": "code",
   "execution_count": 25,
   "metadata": {},
   "outputs": [],
   "source": [
    "# **True Downsampling (Reduce Majority Class)**\n",
    "def downsample_majority(X, y):\n",
    "    df = pd.concat([X, y], axis=1)\n",
    "    \n",
    "    # Separate majority and minority classes\n",
    "    majority = df[df['hospital_death'] == 0]\n",
    "    minority = df[df['hospital_death'] == 1]\n",
    "    \n",
    "    print(\"Majority class size before downsampling:\", majority.shape)\n",
    "    print(\"Minority class size:\", minority.shape)\n",
    "\n",
    "    # Downsample the majority class to match the minority class\n",
    "    majority_downsampled = majority.sample(n=len(minority), random_state=42)\n",
    "\n",
    "    # Combine the downsampled majority class with the minority class\n",
    "    downsampled_df = pd.concat([majority_downsampled, minority])\n",
    "\n",
    "    # Shuffle the dataset to mix samples well\n",
    "    downsampled_df = downsampled_df.sample(frac=1, random_state=42).reset_index(drop=True)\n",
    "\n",
    "    return downsampled_df.drop(columns=['hospital_death']), downsampled_df['hospital_death']"
   ]
  },
  {
   "cell_type": "markdown",
   "metadata": {},
   "source": [
    "## Apply the downsampling and retrain a random forest model"
   ]
  },
  {
   "cell_type": "code",
   "execution_count": 26,
   "metadata": {},
   "outputs": [
    {
     "name": "stdout",
     "output_type": "stream",
     "text": [
      "Majority class size before downsampling: (56842, 39)\n",
      "Minority class size: (5218, 39)\n",
      "Accuracy: 0.77\n",
      "AUROC: 0.84\n",
      "Classification Report:\n",
      "              precision    recall  f1-score   support\n",
      "\n",
      "           0       0.97      0.77      0.86     14210\n",
      "           1       0.23      0.78      0.36      1305\n",
      "\n",
      "    accuracy                           0.77     15515\n",
      "   macro avg       0.60      0.77      0.61     15515\n",
      "weighted avg       0.91      0.77      0.82     15515\n",
      "\n",
      "Confusion Matrix:\n",
      "[[10893  3317]\n",
      " [  287  1018]]\n"
     ]
    },
    {
     "data": {
      "text/plain": [
       "['../downsampled_random_forest_model.pkl']"
      ]
     },
     "execution_count": 26,
     "metadata": {},
     "output_type": "execute_result"
    }
   ],
   "source": [
    "data = original_data\n",
    "\n",
    "# Drop unnecessary columns\n",
    "data = data.drop(columns=['gender_M', 'ethnicity_Other/Unknown'])\n",
    "\n",
    "# Define features and target\n",
    "X = data.drop(columns=['hospital_death'])\n",
    "y = data['hospital_death']\n",
    "\n",
    "# Split data first (before upsampling)\n",
    "X_train, X_test, y_train, y_test = train_test_split(X, y, test_size=0.2, random_state=42, stratify=y)\n",
    "\n",
    "\n",
    "# Apply downsampling\n",
    "X_train_downsampled, y_train_downsampled = downsample_majority(X_train, y_train)\n",
    "\n",
    "# Train a Random Forest model on upsampled data\n",
    "rf_model = RandomForestClassifier(n_estimators=100, random_state=42)\n",
    "rf_model.fit(X_train_downsampled, y_train_downsampled)\n",
    "\n",
    "# Make predictions\n",
    "y_pred = rf_model.predict(X_test)\n",
    "y_pred_proba = rf_model.predict_proba(X_test)[:, 1]\n",
    "\n",
    "# Evaluate model performance\n",
    "accuracy = accuracy_score(y_test, y_pred)\n",
    "auroc = roc_auc_score(y_test, y_pred_proba)\n",
    "\n",
    "print(f\"Accuracy: {accuracy:.2f}\")\n",
    "print(f\"AUROC: {auroc:.2f}\")\n",
    "print(\"Classification Report:\")\n",
    "print(classification_report(y_test, y_pred))\n",
    "print(\"Confusion Matrix:\")\n",
    "print(confusion_matrix(y_test, y_pred))\n",
    "\n",
    "# Save model\n",
    "joblib.dump(rf_model, \"../downsampled_random_forest_model.pkl\")\n"
   ]
  },
  {
   "cell_type": "markdown",
   "metadata": {},
   "source": [
    "## Downsampled Model Results Summary\n",
    "After downsampling, the model learns more evenly from both classes, leading to higher recall for the minority class (78%) but lower precision (23%).\n",
    "\n",
    "- Accuracy (77%) is lower than the original model, but this is expected since we now prioritize balancing class predictions.\n",
    "- AUROC (0.84) shows the model is still good at distinguishing between classes.\n",
    "- Recall for hospital deaths (78%) improved significantly, meaning the model is much better at catching high-risk patients.\n",
    "- Precision for hospital deaths (23%) is low, indicating more false positives.\n",
    "- False negatives dropped from 1,032 (original model) to 287, meaning fewer missed critical cases.\n",
    "\n",
    "The trade-off: fewer missed deaths (higher recall) but more false alarms (lower precision). This approach ensures more cautious risk prediction, which is often preferable in healthcare applications."
   ]
  },
  {
   "cell_type": "markdown",
   "metadata": {},
   "source": [
    "# Analyzing the bias per category\n"
   ]
  },
  {
   "cell_type": "code",
   "execution_count": null,
   "metadata": {},
   "outputs": [],
   "source": [
    "# Choose which categories to analyze\n",
    "original_data.columns"
   ]
  },
  {
   "cell_type": "markdown",
   "metadata": {},
   "source": [
    "## Flexible Bias Assessment Function\n",
    "This code checks if the AI model is fair by seeing how well it predicts hospital outcomes for different groups, like gender and ethnicity. It looks at accuracy (how often the model is right) and AUROC (how well it separates high-risk from low-risk patients).\n",
    "\n",
    "If the model performs worse for certain groups, it might be biased, meaning it doesn't work equally well for everyone. This helps us identify unfairness and improve the model to make healthcare predictions more fair and reliable."
   ]
  },
  {
   "cell_type": "code",
   "execution_count": 9,
   "metadata": {},
   "outputs": [],
   "source": [
    "\n",
    "# **Flexible Bias Assessment Function**\n",
    "def assess_bias(model, X_test, y_test, feature_name):\n",
    "    \"\"\"Evaluate model performance for different demographic groups.\"\"\"\n",
    "    \n",
    "    # Ensure the feature exists in the dataset\n",
    "    if feature_name not in X_test.columns:\n",
    "        print(f\"Skipping {feature_name}: Not found in dataset\")\n",
    "        return pd.DataFrame(columns=[\"Category\", \"Accuracy\", \"AUROC\"])\n",
    "    \n",
    "    # Get predictions\n",
    "    y_pred = model.predict(X_test)\n",
    "    \n",
    "    # Check if model supports `predict_proba` (some models like SVM do not)\n",
    "    if hasattr(model, \"predict_proba\"):\n",
    "        y_pred_proba = model.predict_proba(X_test)[:, 1]\n",
    "    else:\n",
    "        y_pred_proba = y_pred  # Use predictions directly if no probabilities are available\n",
    "    \n",
    "    # Analyze performance across each category\n",
    "    categories = X_test[feature_name].unique()\n",
    "    results = []\n",
    "\n",
    "    for category in categories:\n",
    "        mask = X_test[feature_name] == category  # Boolean mask\n",
    "        y_true_group = y_test[mask]\n",
    "        y_pred_group = y_pred[mask]\n",
    "        y_proba_group = y_pred_proba[mask]\n",
    "\n",
    "        if len(y_true_group) == 0:\n",
    "            continue  # Skip if no data for this category\n",
    "\n",
    "        accuracy_group = accuracy_score(y_true_group, y_pred_group)\n",
    "        auroc_group = roc_auc_score(y_true_group, y_proba_group) if len(set(y_true_group)) > 1 else np.nan  # Avoid AUROC error for single class\n",
    "\n",
    "        results.append([category, accuracy_group, auroc_group])\n",
    "\n",
    "    return pd.DataFrame(results, columns=[\"Category\", \"Accuracy\", \"AUROC\"])\n",
    "\n",
    "\n",
    "# **Example: Running Bias Analysis for Any Model**\n",
    "\n",
    "    # Choose which features to evaluate\n",
    "def evaluate_model(model, X_test, y_test):\n",
    "    features_to_check = [\"gender_F\", \"ethnicity_Caucasian\", \"ethnicity_African American\", \"ethnicity_Hispanic\", \"ethnicity_Native American\"]\n",
    "\n",
    "    for feature in features_to_check:\n",
    "        print(f\"\\nBias Analysis for {feature}:\")\n",
    "        bias_results = assess_bias(model, X_test, y_test, feature)\n",
    "        print(bias_results)\n",
    "\n",
    "\n"
   ]
  },
  {
   "cell_type": "code",
   "execution_count": null,
   "metadata": {},
   "outputs": [
    {
     "name": "stdout",
     "output_type": "stream",
     "text": [
      "\n",
      "🔍 Evaluating Random Forest:\n",
      "\n",
      "Bias Analysis for gender_F:\n",
      "   Category  Accuracy     AUROC\n",
      "0      True  0.984388  0.978182\n",
      "1     False  0.987032  0.987096\n",
      "\n",
      "Bias Analysis for ethnicity_Caucasian:\n",
      "   Category  Accuracy     AUROC\n",
      "0     False  0.987024  0.987603\n",
      "1      True  0.985454  0.981697\n",
      "\n",
      "Bias Analysis for ethnicity_African American:\n",
      "   Category  Accuracy     AUROC\n",
      "0     False  0.985601  0.982761\n",
      "1      True  0.987611  0.985203\n",
      "\n",
      "Bias Analysis for ethnicity_Hispanic:\n",
      "   Category  Accuracy     AUROC\n",
      "0     False  0.985807  0.982350\n",
      "1      True  0.986111  0.996257\n",
      "\n",
      "Bias Analysis for ethnicity_Native American:\n",
      "   Category  Accuracy    AUROC\n",
      "0     False  0.985820  0.98281\n",
      "1      True  0.985816  0.99750\n"
     ]
    }
   ],
   "source": [
    "# Evaluate the models\n",
    "\n",
    "model = joblib.load('../upsampled_random_forest_model.pkl')\n",
    "\n",
    "\n",
    "\n",
    "print(\"\\n🔍 Evaluating Random Forest:\")\n",
    "evaluate_model(original_rf_loaded, X_test, y_test)\n",
    "\n",
    "\n"
   ]
  },
  {
   "cell_type": "code",
   "execution_count": null,
   "metadata": {},
   "outputs": [],
   "source": []
  },
  {
   "cell_type": "markdown",
   "metadata": {},
   "source": [
    "# Debiasing techniques"
   ]
  },
  {
   "cell_type": "markdown",
   "metadata": {},
   "source": [
    "## Comparing AUROC"
   ]
  },
  {
   "cell_type": "code",
   "execution_count": null,
   "metadata": {},
   "outputs": [
    {
     "data": {
      "image/png": "[encoded data removed]",
      "text/plain": [
       "<Figure size 1000x500 with 1 Axes>"
      ]
     },
     "metadata": {},
     "output_type": "display_data"
    }
   ],
   "source": [
    "import seaborn as sns\n",
    "import matplotlib.pyplot as plt\n",
    "import pandas as pd\n",
    "\n",
    "# Load Models\n",
    "# Random Forest Original\n",
    "original_rf_loaded = joblib.load(\"../original_data_random_forest_model.pkl\")\n",
    "\n",
    "# Random Forest Altered 20% African American\n",
    "altered_rf_loaded = joblib.load(\"../altered_rf_model.pkl\")\n",
    "\n",
    "\n",
    "# Get Predictions\n",
    "y_pred_orig = original_rf_loaded.predict(X_test)\n",
    "y_pred_bias = altered_rf_loaded.predict(X_test)\n",
    "\n",
    "y_pred_proba_orig = original_rf_loaded.predict_proba(X_test)[:, 1]\n",
    "y_pred_proba_bias = altered_rf_loaded.predict_proba(X_test)[:, 1]\n",
    "\n",
    "# AUROC for different groups\n",
    "def calculate_auroc_by_group(X_test, y_test, model, group_column):\n",
    "    \"\"\"Compute AUROC scores for different subgroups.\"\"\"\n",
    "    auroc_scores = {}\n",
    "    \n",
    "    for group in X_test[group_column].unique():\n",
    "        group_indices = (X_test[group_column] == group)\n",
    "        if sum(group_indices) > 10:  # Ensure enough samples\n",
    "            y_true_group = y_test[group_indices]\n",
    "            y_pred_proba_group = model.predict_proba(X_test[group_indices])[:, 1]\n",
    "            auroc_scores[group] = roc_auc_score(y_true_group, y_pred_proba_group)\n",
    "    \n",
    "    return pd.DataFrame(auroc_scores.items(), columns=[group_column, 'AUROC'])\n",
    "\n",
    "# Compute AUROC by Subgroup\n",
    "ethnicity_auroc_orig = calculate_auroc_by_group(X_test, y_test, original_rf_loaded, 'ethnicity_Caucasian')\n",
    "ethnicity_auroc_bias = calculate_auroc_by_group(X_test, y_test, altered_rf_loaded, 'ethnicity_Caucasian')\n",
    "\n",
    "# Merge results for comparison\n",
    "ethnicity_comparison = ethnicity_auroc_orig.merge(ethnicity_auroc_bias, on='ethnicity_Caucasian', suffixes=('_Original', '_Biased'))\n",
    "\n",
    "# Plot AUROC Comparison\n",
    "plt.figure(figsize=(10, 5))\n",
    "sns.barplot(data=ethnicity_comparison, x=\"ethnicity_Caucasian\", y=\"AUROC_Original\", color=\"blue\", alpha=0.6, label=\"Original\")\n",
    "sns.barplot(data=ethnicity_comparison, x=\"ethnicity_Caucasian\", y=\"AUROC_Biased\", color=\"red\", alpha=0.6, label=\"Biased\")\n",
    "plt.xlabel(\"Ethnicity\")\n",
    "plt.ylabel(\"AUROC\")\n",
    "plt.title(\"Comparison of AUROC by Ethnicity\")\n",
    "plt.xticks(rotation=45)\n",
    "plt.legend()\n",
    "plt.show()\n"
   ]
  },
  {
   "cell_type": "markdown",
   "metadata": {},
   "source": [
    "# Bias Metrics\n",
    "- need to add details"
   ]
  },
  {
   "cell_type": "code",
   "execution_count": 19,
   "metadata": {},
   "outputs": [
    {
     "name": "stdout",
     "output_type": "stream",
     "text": [
      "                    Metric  Original Model  Biased Model\n",
      "0         Disparate Impact        0.916338      0.735130\n",
      "1      Equalized Odds Diff        0.001403      0.298662\n",
      "2  Demographic Parity Diff        0.006352      0.064499\n"
     ]
    },
    {
     "data": {
      "image/png": "[encoded data removed]",
      "text/plain": [
       "<Figure size 1000x600 with 1 Axes>"
      ]
     },
     "metadata": {},
     "output_type": "display_data"
    }
   ],
   "source": [
    "from fairlearn.metrics import demographic_parity_difference, equalized_odds_difference\n",
    "from sklearn.metrics import confusion_matrix\n",
    "\n",
    "# **1️⃣ Disparate Impact (Selection Rate Ratio)**\n",
    "def disparate_impact(y_true, y_pred, sensitive_feature):\n",
    "    \"\"\"Computes selection rate difference between groups.\"\"\"\n",
    "    df = pd.DataFrame({'y_true': y_true, 'y_pred': y_pred, 'group': X_test[sensitive_feature]})\n",
    "    rates = df.groupby('group')['y_pred'].mean()\n",
    "    return rates.min() / rates.max()\n",
    "\n",
    "di_orig = disparate_impact(y_test, y_pred_orig, 'ethnicity_Caucasian')\n",
    "di_bias = disparate_impact(y_test, y_pred_bias, 'ethnicity_Caucasian')\n",
    "\n",
    "# **2️⃣ Equalized Odds (Difference in False Positive/Negative Rates)**\n",
    "eo_orig = equalized_odds_difference(y_test, y_pred_orig, sensitive_features=X_test['ethnicity_Caucasian'])\n",
    "eo_bias = equalized_odds_difference(y_test, y_pred_bias, sensitive_features=X_test['ethnicity_Caucasian'])\n",
    "\n",
    "# **3️⃣ Demographic Parity**\n",
    "dp_orig = demographic_parity_difference(y_test, y_pred_orig, sensitive_features=X_test['ethnicity_Caucasian'])\n",
    "dp_bias = demographic_parity_difference(y_test, y_pred_bias, sensitive_features=X_test['ethnicity_Caucasian'])\n",
    "\n",
    "# Print Bias Metrics\n",
    "bias_results = pd.DataFrame({\n",
    "    \"Metric\": [\"Disparate Impact\", \"Equalized Odds Diff\", \"Demographic Parity Diff\"],\n",
    "    \"Original Model\": [di_orig, eo_orig, dp_orig],\n",
    "    \"Biased Model\": [di_bias, eo_bias, dp_bias]\n",
    "})\n",
    "\n",
    "print(bias_results)\n",
    "\n",
    "# Set up figure\n",
    "plt.figure(figsize=(10, 6))\n",
    "x = range(len(bias_results[\"Metric\"]))\n",
    "\n",
    "# Plot bars for Original and Biased Model\n",
    "plt.bar(x, bias_results[\"Original Model\"], width=0.4, label=\"Original Model\", color='blue', alpha=0.7)\n",
    "plt.bar([i + 0.4 for i in x], bias_results[\"Biased Model\"], width=0.4, label=\"Biased Model\", color='red', alpha=0.7)\n",
    "\n",
    "# Labels and formatting\n",
    "plt.xticks([i + 0.2 for i in x], bias_results[\"Metric\"])\n",
    "plt.ylabel(\"Metric Value\")\n",
    "plt.title(\"Comparison of Bias Metrics Between Original and Biased Models\")\n",
    "plt.legend()\n",
    "\n",
    "# Add values on top of bars\n",
    "for i in range(len(bias_results[\"Metric\"])):\n",
    "    plt.text(i, bias_results[\"Original Model\"][i] + 0.01, f\"{bias_results['Original Model'][i]:.3f}\", ha='center', fontsize=10, color='black')\n",
    "    plt.text(i + 0.4, bias_results[\"Biased Model\"][i] + 0.01, f\"{bias_results['Biased Model'][i]:.3f}\", ha='center', fontsize=10, color='black')\n",
    "\n",
    "# Show plot\n",
    "plt.show()"
   ]
  },
  {
   "cell_type": "markdown",
   "metadata": {},
   "source": [
    "# Debiasing Techniques"
   ]
  },
  {
   "cell_type": "code",
   "execution_count": null,
   "metadata": {},
   "outputs": [],
   "source": []
  }
 ],
 "metadata": {
  "kernelspec": {
   "display_name": "MLClass",
   "language": "python",
   "name": "python3"
  },
  "language_info": {
   "codemirror_mode": {
    "name": "ipython",
    "version": 3
   },
   "file_extension": ".py",
   "mimetype": "text/x-python",
   "name": "python",
   "nbconvert_exporter": "python",
   "pygments_lexer": "ipython3",
   "version": "3.12.5"
  }
 },
 "nbformat": 4,
 "nbformat_minor": 2
}
