{
 "cells": [
  {
   "cell_type": "markdown",
   "metadata": {},
   "source": [
    "# Data Balancing and Bias Mitigation Strategies\n",
    "\n",
    "**Dataset:** Women in Data Science (91,713 encounters)  \n",
    "**Task:** Understanding Data  \n",
    "**Date:** February 17, 2025  \n",
    "**Authors:** Mackenzie Meni & Jeremy Balch"
   ]
  },
  {
   "cell_type": "markdown",
   "metadata": {},
   "source": [
    "### To Do List\n",
    "\n",
    "- [x] Upsampling and downsampling and assess performance by category  \n",
    "- [ ] Debiasing strategies  \n",
    "- [x] Switch model architecture (RF, XGBoost, etc.)  \n",
    "- [ ] Switch feature set (use all features, use subset of features)  \n",
    "- [x] Switch evaluation metric (AUROC, Accuracy, etc.)  \n",
    "- [x] Bootstrap for confidence intervals \n"
   ]
  },
  {
   "cell_type": "markdown",
   "metadata": {},
   "source": [
    "# Import all necessary packages"
   ]
  },
  {
   "cell_type": "code",
   "execution_count": 1,
   "metadata": {},
   "outputs": [],
   "source": [
    "import pandas as pd\n",
    "import numpy as np\n",
    "import matplotlib.pyplot as plt\n",
    "from tableone import TableOne\n",
    "import warnings\n",
    "from sklearn.model_selection import train_test_split\n",
    "import joblib\n",
    "import seaborn as sns\n",
    "from sklearn.metrics import roc_auc_score, accuracy_score, classification_report, confusion_matrix\n",
    "from sklearn.ensemble import RandomForestClassifier\n",
    "import tensorflow as tf\n",
    "\n",
    "warnings.filterwarnings(\"ignore\")\n"
   ]
  },
  {
   "cell_type": "markdown",
   "metadata": {},
   "source": [
    "# Load all data"
   ]
  },
  {
   "cell_type": "code",
   "execution_count": 2,
   "metadata": {},
   "outputs": [],
   "source": [
    "# Loading original dataset\n",
    "original_data = pd.read_csv('../preprocessed_data.csv')\n",
    "\n",
    "# Loading altered dataset\n",
    "data_altered_complete = pd.read_csv('../data_altered_complete.csv')"
   ]
  },
  {
   "cell_type": "markdown",
   "metadata": {},
   "source": [
    "# Loading the models for comparison"
   ]
  },
  {
   "cell_type": "code",
   "execution_count": 3,
   "metadata": {},
   "outputs": [],
   "source": [
    "# Random Forest Original\n",
    "original_rf_loaded = joblib.load(\"../original_data_random_forest_model.pkl\")\n",
    "\n",
    "# Random Forest Altered 20% African American\n",
    "altered_rf_loaded = joblib.load(\"../altered_rf_model.pkl\")\n",
    "\n",
    "# Random Forest Altered 80% Female"
   ]
  },
  {
   "cell_type": "markdown",
   "metadata": {},
   "source": [
    "# Random Forest Model with upsampled data"
   ]
  },
  {
   "cell_type": "markdown",
   "metadata": {},
   "source": [
    "## Train/Test Split for Upsampling\n",
    "\n",
    "- With stratify=y, both train and test sets will preserve the ratio of the classes from the original data, making the results more representative and the model's performance more reliable."
   ]
  },
  {
   "cell_type": "code",
   "execution_count": 4,
   "metadata": {},
   "outputs": [],
   "source": [
    "data = original_data\n",
    "\n",
    "# Drop unnecessary columns\n",
    "data = data.drop(columns=['gender_M', 'ethnicity_Other/Unknown'])\n",
    "\n",
    "# Define features and target\n",
    "X = data.drop(columns=['hospital_death'])\n",
    "y = data['hospital_death']\n",
    "\n",
    "# Split data first (before upsampling)\n",
    "X_train, X_test, y_train, y_test = train_test_split(X, y, test_size=0.2, random_state=42, stratify=y)\n"
   ]
  },
  {
   "cell_type": "code",
   "execution_count": 5,
   "metadata": {},
   "outputs": [
    {
     "name": "stdout",
     "output_type": "stream",
     "text": [
      "Accuracy: 0.92\n",
      "AUROC: 0.83\n",
      "Classification Report:\n",
      "              precision    recall  f1-score   support\n",
      "\n",
      "           0       0.93      0.99      0.96     14210\n",
      "           1       0.57      0.14      0.22      1305\n",
      "\n",
      "    accuracy                           0.92     15515\n",
      "   macro avg       0.75      0.56      0.59     15515\n",
      "weighted avg       0.90      0.92      0.90     15515\n",
      "\n",
      "Confusion Matrix:\n",
      "[[14075   135]\n",
      " [ 1123   182]]\n"
     ]
    }
   ],
   "source": [
    "from sklearn.ensemble import RandomForestClassifier\n",
    "\n",
    "# Assign class weights automatically (higher weight for underrepresented class)\n",
    "rf_model_balanced = RandomForestClassifier(n_estimators=100, random_state=42, class_weight=\"balanced\")\n",
    "rf_model_balanced.fit(X_train, y_train)\n",
    "\n",
    "# Make predictions\n",
    "y_pred = rf_model_balanced.predict(X_test)\n",
    "y_pred_proba = rf_model_balanced.predict_proba(X_test)[:, 1]\n",
    "\n",
    "# Evaluate model performance\n",
    "accuracy = accuracy_score(y_test, y_pred)\n",
    "auroc = roc_auc_score(y_test, y_pred_proba)\n",
    "\n",
    "print(f\"Accuracy: {accuracy:.2f}\")\n",
    "print(f\"AUROC: {auroc:.2f}\")\n",
    "print(\"Classification Report:\")\n",
    "print(classification_report(y_test, y_pred))\n",
    "print(\"Confusion Matrix:\")\n",
    "print(confusion_matrix(y_test, y_pred))\n"
   ]
  },
  {
   "cell_type": "markdown",
   "metadata": {},
   "source": [
    "# Upsampling the minority class for prediction\n",
    "\n",
    "This function balances an imbalanced dataset by duplicating (upsampling) the minority class so that it has the same number of samples as the majority class.\n",
    "\n",
    "**🔍 Example Before & After**\n",
    "\n",
    "| Class         | Original Count | After Upsampling |\n",
    "|--------------|---------------|------------------|\n",
    "| Survived (0) | 10,000        | 10,000          |\n",
    "| Died (1)     | 2,000         | 10,000 (upsampled) |\n"
   ]
  },
  {
   "cell_type": "code",
   "execution_count": 35,
   "metadata": {},
   "outputs": [],
   "source": [
    "# **True Upsampling (Duplicate Minority Class)**\n",
    "def upsample_minority(X, y):\n",
    "    df = pd.concat([X, y], axis=1)\n",
    "    \n",
    "    # Separate majority and minority classes\n",
    "    majority = df[df['hospital_death'] == 0]\n",
    "    minority = df[df['hospital_death'] == 1]\n",
    "    \n",
    "    print(majority.shape)\n",
    "    print(minority.shape)\n",
    "    # Upsample the minority class by repeating existing samples\n",
    "    minority_upsampled = minority.sample(n=len(majority), replace=True, random_state=42)\n",
    "\n",
    "    # Combine the upsampled minority class with the majority class\n",
    "    upsampled_df = pd.concat([majority, minority_upsampled])\n",
    "\n",
    "    # Shuffle the dataset to mix samples well\n",
    "    upsampled_df = upsampled_df.sample(frac=1, random_state=42).reset_index(drop=True)\n",
    "\n",
    "    return upsampled_df.drop(columns=['hospital_death']), upsampled_df['hospital_death']"
   ]
  },
  {
   "cell_type": "markdown",
   "metadata": {},
   "source": [
    "# Apply the upsampling and train the Random forest model"
   ]
  },
  {
   "cell_type": "code",
   "execution_count": 23,
   "metadata": {},
   "outputs": [
    {
     "name": "stdout",
     "output_type": "stream",
     "text": [
      "(56842, 39)\n",
      "(5218, 39)\n",
      "Accuracy: 0.92\n",
      "AUROC: 0.83\n",
      "Classification Report:\n",
      "              precision    recall  f1-score   support\n",
      "\n",
      "           0       0.94      0.98      0.96     14210\n",
      "           1       0.52      0.27      0.36      1305\n",
      "\n",
      "    accuracy                           0.92     15515\n",
      "   macro avg       0.73      0.63      0.66     15515\n",
      "weighted avg       0.90      0.92      0.91     15515\n",
      "\n",
      "Confusion Matrix:\n",
      "[[13882   328]\n",
      " [  948   357]]\n"
     ]
    },
    {
     "data": {
      "text/plain": [
       "['../upsampled_random_forest_model.pkl']"
      ]
     },
     "execution_count": 23,
     "metadata": {},
     "output_type": "execute_result"
    }
   ],
   "source": [
    "\n",
    "# Apply upsampling\n",
    "X_train_upsampled, y_train_upsampled = upsample_minority(X_train, y_train)\n",
    "\n",
    "# Train a Random Forest model on upsampled data\n",
    "rf_model = RandomForestClassifier(n_estimators=100, random_state=42)\n",
    "rf_model.fit(X_train_upsampled, y_train_upsampled)\n",
    "\n",
    "# Make predictions\n",
    "y_pred = rf_model.predict(X_test)\n",
    "y_pred_proba = rf_model.predict_proba(X_test)[:, 1]\n",
    "\n",
    "# Evaluate model performance\n",
    "accuracy = accuracy_score(y_test, y_pred)\n",
    "auroc = roc_auc_score(y_test, y_pred_proba)\n",
    "\n",
    "print(f\"Accuracy: {accuracy:.2f}\")\n",
    "print(f\"AUROC: {auroc:.2f}\")\n",
    "print(\"Classification Report:\")\n",
    "print(classification_report(y_test, y_pred))\n",
    "print(\"Confusion Matrix:\")\n",
    "print(confusion_matrix(y_test, y_pred))\n",
    "\n",
    "# Save model\n",
    "joblib.dump(rf_model, \"../upsampled_random_forest_model.pkl\")\n"
   ]
  },
  {
   "cell_type": "markdown",
   "metadata": {},
   "source": [
    "## Upsampled Model Results Summary\n",
    "\n",
    "**Comparison of Original to upsampled**\n",
    "\n",
    "|  | **Original Model** | **Upsampled Model** | **Changes in the Upsampled Model Compared to Original** |\n",
    "|--------------------|----------------|----------------|----------------|\n",
    "| **True Positives (Correct Deaths)** | 269 | **357** | **+88 (Better at catching deaths)** |\n",
    "| **False Negatives (Missed Deaths)** | 1,032 | **948** | **-84 (Fewer missed high-risk patients)** |\n",
    "| **False Positives (Wrongly Predicted Deaths)** | 187 | **328** | **+141 (More cautious in predicting risk)** |\n",
    "| **True Negatives (Correctly Predicted Survivals)** | 14,027 | **13,882** | **-145 (Slight decrease in correctly classified survivals)** |\n",
    "\n",
    "\n",
    "\n",
    "The upsampled model improves detection of high-risk patients by reducing missed deaths (false negatives) from 1,032 to 948 and correctly identifying 88 more deaths than the original model. However, this comes with a trade-off—more false positives, increasing from 187 to 328, meaning the model is now more cautious in predicting risk.\n",
    "\n",
    "Overall, the model prioritizes catching more hospital deaths, which is often preferable in healthcare settings where missing critical cases is riskier than raising extra alerts."
   ]
  },
  {
   "cell_type": "markdown",
   "metadata": {},
   "source": [
    "# Let's try downsampling the majority class instead\n",
    "\n",
    "\n",
    "### Downsampling the Majority Class for Prediction\n",
    "\n",
    "This function balances an imbalanced dataset by reducing (downsampling) the majority class so that it has the same number of samples as the minority class. Instead of adding synthetic or duplicate data, it randomly removes majority-class examples to create a more balanced dataset.\n",
    "\n",
    "🔍 Example Before & After\n",
    "\n",
    "| Class         | Original Count | After Downsampling |\n",
    "|--------------|---------------|------------------|\n",
    "| Survived (0) | 10,000        | 2,000  (downsampled) |\n",
    "| Died (1)     | 2,000         | 2,000  |\n",
    "\n",
    "\n",
    "This method helps prevent the model from overfitting to the majority class while ensuring that both classes are treated equally during training."
   ]
  },
  {
   "cell_type": "code",
   "execution_count": 25,
   "metadata": {},
   "outputs": [],
   "source": [
    "# **True Downsampling (Reduce Majority Class)**\n",
    "def downsample_majority(X, y):\n",
    "    df = pd.concat([X, y], axis=1)\n",
    "    \n",
    "    # Separate majority and minority classes\n",
    "    majority = df[df['hospital_death'] == 0]\n",
    "    minority = df[df['hospital_death'] == 1]\n",
    "    \n",
    "    print(\"Majority class size before downsampling:\", majority.shape)\n",
    "    print(\"Minority class size:\", minority.shape)\n",
    "\n",
    "    # Downsample the majority class to match the minority class\n",
    "    majority_downsampled = majority.sample(n=len(minority), random_state=42)\n",
    "\n",
    "    # Combine the downsampled majority class with the minority class\n",
    "    downsampled_df = pd.concat([majority_downsampled, minority])\n",
    "\n",
    "    # Shuffle the dataset to mix samples well\n",
    "    downsampled_df = downsampled_df.sample(frac=1, random_state=42).reset_index(drop=True)\n",
    "\n",
    "    return downsampled_df.drop(columns=['hospital_death']), downsampled_df['hospital_death']"
   ]
  },
  {
   "cell_type": "markdown",
   "metadata": {},
   "source": [
    "## Apply the downsampling and retrain a random forest model"
   ]
  },
  {
   "cell_type": "code",
   "execution_count": 26,
   "metadata": {},
   "outputs": [
    {
     "name": "stdout",
     "output_type": "stream",
     "text": [
      "Majority class size before downsampling: (56842, 39)\n",
      "Minority class size: (5218, 39)\n",
      "Accuracy: 0.77\n",
      "AUROC: 0.84\n",
      "Classification Report:\n",
      "              precision    recall  f1-score   support\n",
      "\n",
      "           0       0.97      0.77      0.86     14210\n",
      "           1       0.23      0.78      0.36      1305\n",
      "\n",
      "    accuracy                           0.77     15515\n",
      "   macro avg       0.60      0.77      0.61     15515\n",
      "weighted avg       0.91      0.77      0.82     15515\n",
      "\n",
      "Confusion Matrix:\n",
      "[[10893  3317]\n",
      " [  287  1018]]\n"
     ]
    },
    {
     "data": {
      "text/plain": [
       "['../downsampled_random_forest_model.pkl']"
      ]
     },
     "execution_count": 26,
     "metadata": {},
     "output_type": "execute_result"
    }
   ],
   "source": [
    "data = original_data\n",
    "\n",
    "# Drop unnecessary columns\n",
    "data = data.drop(columns=['gender_M', 'ethnicity_Other/Unknown'])\n",
    "\n",
    "# Define features and target\n",
    "X = data.drop(columns=['hospital_death'])\n",
    "y = data['hospital_death']\n",
    "\n",
    "# Split data first (before upsampling)\n",
    "X_train, X_test, y_train, y_test = train_test_split(X, y, test_size=0.2, random_state=42, stratify=y)\n",
    "\n",
    "\n",
    "# Apply downsampling\n",
    "X_train_downsampled, y_train_downsampled = downsample_majority(X_train, y_train)\n",
    "\n",
    "# Train a Random Forest model on upsampled data\n",
    "rf_model = RandomForestClassifier(n_estimators=100, random_state=42)\n",
    "rf_model.fit(X_train_downsampled, y_train_downsampled)\n",
    "\n",
    "# Make predictions\n",
    "y_pred = rf_model.predict(X_test)\n",
    "y_pred_proba = rf_model.predict_proba(X_test)[:, 1]\n",
    "\n",
    "# Evaluate model performance\n",
    "accuracy = accuracy_score(y_test, y_pred)\n",
    "auroc = roc_auc_score(y_test, y_pred_proba)\n",
    "\n",
    "print(f\"Accuracy: {accuracy:.2f}\")\n",
    "print(f\"AUROC: {auroc:.2f}\")\n",
    "print(\"Classification Report:\")\n",
    "print(classification_report(y_test, y_pred))\n",
    "print(\"Confusion Matrix:\")\n",
    "print(confusion_matrix(y_test, y_pred))\n",
    "\n",
    "# Save model\n",
    "joblib.dump(rf_model, \"../downsampled_random_forest_model.pkl\")\n"
   ]
  },
  {
   "cell_type": "markdown",
   "metadata": {},
   "source": [
    "## Downsampled Model Results Summary\n",
    "After downsampling, the model learns more evenly from both classes, leading to higher recall for the minority class (78%) but lower precision (23%).\n",
    "\n",
    "- Accuracy (77%) is lower than the original model, but this is expected since we now prioritize balancing class predictions.\n",
    "- AUROC (0.84) shows the model is still good at distinguishing between classes.\n",
    "- Recall for hospital deaths (78%) improved significantly, meaning the model is much better at catching high-risk patients.\n",
    "- Precision for hospital deaths (23%) is low, indicating more false positives.\n",
    "- False negatives dropped from 1,032 (original model) to 287, meaning fewer missed critical cases.\n",
    "\n",
    "The trade-off: fewer missed deaths (higher recall) but more false alarms (lower precision). This approach ensures more cautious risk prediction, which is often preferable in healthcare applications."
   ]
  },
  {
   "cell_type": "markdown",
   "metadata": {},
   "source": [
    "# Analyzing the bias per category\n"
   ]
  },
  {
   "cell_type": "code",
   "execution_count": null,
   "metadata": {},
   "outputs": [],
   "source": [
    "# Choose which categories to analyze\n",
    "original_data.columns"
   ]
  },
  {
   "cell_type": "markdown",
   "metadata": {},
   "source": [
    "## Flexible Bias Assessment Function\n",
    "This code checks if the AI model is fair by seeing how well it predicts hospital outcomes for different groups, like gender and ethnicity. It looks at accuracy (how often the model is right) and AUROC (how well it separates high-risk from low-risk patients).\n",
    "\n",
    "If the model performs worse for certain groups, it might be biased, meaning it doesn't work equally well for everyone. This helps us identify unfairness and improve the model to make healthcare predictions more fair and reliable."
   ]
  },
  {
   "cell_type": "code",
   "execution_count": 62,
   "metadata": {},
   "outputs": [],
   "source": [
    "\n",
    "# **Flexible Bias Assessment Function**\n",
    "def assess_bias(model, X_test, y_test, feature_name):\n",
    "    \"\"\"Evaluate model performance for different demographic groups.\"\"\"\n",
    "    \n",
    "    # Ensure the feature exists in the dataset\n",
    "    if feature_name not in X_test.columns:\n",
    "        print(f\"Skipping {feature_name}: Not found in dataset\")\n",
    "        return pd.DataFrame(columns=[\"Category\", \"Accuracy\", \"AUROC\"])\n",
    "    \n",
    "    # Get predictions\n",
    "    y_pred = model.predict(X_test)\n",
    "    \n",
    "    # Check if model supports `predict_proba` (some models like SVM do not)\n",
    "    if hasattr(model, \"predict_proba\"):\n",
    "        y_pred_proba = model.predict_proba(X_test)[:, 1]\n",
    "    else:\n",
    "        y_pred_proba = y_pred  # Use predictions directly if no probabilities are available\n",
    "    \n",
    "    # Analyze performance across each category\n",
    "    categories = X_test[feature_name].unique()\n",
    "    results = []\n",
    "\n",
    "    for category in categories:\n",
    "        mask = X_test[feature_name] == category  # Boolean mask\n",
    "        y_true_group = y_test[mask]\n",
    "        y_pred_group = y_pred[mask]\n",
    "        y_proba_group = y_pred_proba[mask]\n",
    "\n",
    "        if len(y_true_group) == 0:\n",
    "            continue  # Skip if no data for this category\n",
    "\n",
    "        accuracy_group = accuracy_score(y_true_group, y_pred_group)\n",
    "        auroc_group = roc_auc_score(y_true_group, y_proba_group) if len(set(y_true_group)) > 1 else np.nan  # Avoid AUROC error for single class\n",
    "\n",
    "        results.append([category, accuracy_group, auroc_group])\n",
    "\n",
    "    return pd.DataFrame(results, columns=[\"Category\", \"Accuracy\", \"AUROC\"])\n",
    "\n",
    "\n",
    "# **Example: Running Bias Analysis for Any Model**\n",
    "\n",
    "    # Choose which features to evaluate\n",
    "def evaluate_model(model, X_test, y_test):\n",
    "    features_to_check = [\"gender_F\", \"ethnicity_Caucasian\", \"ethnicity_African American\", \"ethnicity_Hispanic\", \"ethnicity_Native American\"]\n",
    "\n",
    "    for feature in features_to_check:\n",
    "        print(f\"\\nBias Analysis for {feature}:\")\n",
    "        bias_results = assess_bias(model, X_test, y_test, feature)\n",
    "        print(bias_results)\n",
    "\n",
    "\n"
   ]
  },
  {
   "cell_type": "code",
   "execution_count": null,
   "metadata": {},
   "outputs": [
    {
     "name": "stdout",
     "output_type": "stream",
     "text": [
      "\n",
      "🔍 Evaluating Random Forest:\n",
      "\n",
      "Bias Analysis for gender_F:\n",
      "   Category  Accuracy     AUROC\n",
      "0      True  0.984388  0.978182\n",
      "1     False  0.987032  0.987096\n",
      "\n",
      "Bias Analysis for ethnicity_Caucasian:\n",
      "   Category  Accuracy     AUROC\n",
      "0     False  0.987024  0.987603\n",
      "1      True  0.985454  0.981697\n",
      "\n",
      "Bias Analysis for ethnicity_African American:\n",
      "   Category  Accuracy     AUROC\n",
      "0     False  0.985601  0.982761\n",
      "1      True  0.987611  0.985203\n",
      "\n",
      "Bias Analysis for ethnicity_Hispanic:\n",
      "   Category  Accuracy     AUROC\n",
      "0     False  0.985807  0.982350\n",
      "1      True  0.986111  0.996257\n",
      "\n",
      "Bias Analysis for ethnicity_Native American:\n",
      "   Category  Accuracy    AUROC\n",
      "0     False  0.985820  0.98281\n",
      "1      True  0.985816  0.99750\n"
     ]
    }
   ],
   "source": [
    "# Evaluate the models\n",
    "\n",
    "model = joblib.load('../upsampled_random_forest_model.pkl')\n",
    "\n",
    "\n",
    "\n",
    "print(\"\\n🔍 Evaluating Random Forest:\")\n",
    "evaluate_model(original_rf_loaded, X_test, y_test)\n",
    "\n",
    "\n"
   ]
  },
  {
   "cell_type": "markdown",
   "metadata": {},
   "source": [
    "# Debiasing Techniques"
   ]
  },
  {
   "cell_type": "markdown",
   "metadata": {},
   "source": [
    "# Reweighting biased data set for training"
   ]
  },
  {
   "cell_type": "code",
   "execution_count": 23,
   "metadata": {},
   "outputs": [
    {
     "name": "stdout",
     "output_type": "stream",
     "text": [
      "Accuracy: 0.88\n",
      "AUROC: 0.84\n",
      "Classification Report:\n",
      "              precision    recall  f1-score   support\n",
      "\n",
      "         0.0       0.90      0.98      0.94     13679\n",
      "         1.0       0.49      0.17      0.25      1836\n",
      "\n",
      "    accuracy                           0.88     15515\n",
      "   macro avg       0.69      0.57      0.59     15515\n",
      "weighted avg       0.85      0.88      0.85     15515\n",
      "\n",
      "Confusion Matrix:\n",
      "[[13356   323]\n",
      " [ 1524   312]]\n"
     ]
    }
   ],
   "source": [
    "from aif360.algorithms.preprocessing import Reweighing\n",
    "from aif360.datasets import BinaryLabelDataset\n",
    "from sklearn.ensemble import RandomForestClassifier\n",
    "from sklearn.model_selection import train_test_split\n",
    "import joblib\n",
    "from fairlearn.metrics import demographic_parity_difference, equalized_odds_difference\n",
    "from sklearn.metrics import accuracy_score, roc_auc_score, classification_report, confusion_matrix\n",
    "import matplotlib.pyplot as plt\n",
    "import pandas as pd\n",
    "import numpy as np\n",
    "import seaborn as sns\n",
    "\n",
    "# Load Data\n",
    "data_altered = pd.read_csv('../data_altered_complete.csv')\n",
    "\n",
    "# Drop unused columns\n",
    "data_altered = data_altered.drop(columns=['gender_M', 'ethnicity_Other/Unknown'])\n",
    "\n",
    "# Define features and target variable\n",
    "X = data_altered.drop('hospital_death', axis=1)  \n",
    "y = data_altered['hospital_death']               \n",
    "\n",
    "# Perform the train-test split\n",
    "X_train, X_test, y_train, y_test = train_test_split(X, y, test_size=0.2, random_state=42)\n",
    "\n",
    "# **1️⃣ Apply Reweighing to Correct Bias**\n",
    "protected_attrs = ['ethnicity_African American']\n",
    "\n",
    "# Convert dataset into BinaryLabelDataset format\n",
    "dataset = BinaryLabelDataset(\n",
    "    df=data_altered,\n",
    "    label_names=['hospital_death'],\n",
    "    protected_attribute_names=protected_attrs\n",
    ")\n",
    "\n",
    "reweigher = Reweighing(\n",
    "    unprivileged_groups=[{'ethnicity_African American': 0}],  # Underrepresented class\n",
    "    privileged_groups=[{'ethnicity_African American': 1}]  # Majority class\n",
    ")\n",
    "\n",
    "dataset_transf = reweigher.fit_transform(dataset)\n",
    "\n",
    "# Convert back to Pandas\n",
    "data_reweighted, _ = dataset_transf.convert_to_dataframe()\n",
    "sample_weights = dataset_transf.instance_weights  \n",
    "\n",
    "# **2️⃣ Train a Model with Reweighted Data**\n",
    "X = data_reweighted.drop(columns=['hospital_death'])\n",
    "y = data_reweighted['hospital_death']\n",
    "\n",
    "X_train, X_test, y_train, y_test, sample_weights_train, sample_weights_test = train_test_split(\n",
    "    X, y, sample_weights, test_size=0.2, random_state=42\n",
    ")\n",
    "\n",
    "# Train model using reweighted samples\n",
    "rf_model_reweighted = RandomForestClassifier(n_estimators=100, random_state=42, class_weight=\"balanced\")\n",
    "rf_model_reweighted.fit(X_train, y_train, sample_weight=sample_weights_train)\n",
    "\n",
    "# Save Model\n",
    "joblib.dump(rf_model_reweighted, '../rf_reweighted.pkl')\n",
    "\n",
    "# Make Predictions\n",
    "y_pred_reweighted = rf_model_reweighted.predict(X_test)\n",
    "y_pred_reweighted_proba = rf_model_reweighted.predict_proba(X_test)[:, 1]\n",
    "\n",
    "# Evaluate Performance\n",
    "accuracy = accuracy_score(y_test, y_pred_reweighted)\n",
    "auroc = roc_auc_score(y_test, y_pred_reweighted_proba)\n",
    "\n",
    "print(f\"Accuracy: {accuracy:.2f}\")\n",
    "print(f\"AUROC: {auroc:.2f}\")\n",
    "print(\"Classification Report:\")\n",
    "print(classification_report(y_test, y_pred_reweighted))\n",
    "print(\"Confusion Matrix:\")\n",
    "print(confusion_matrix(y_test, y_pred_reweighted))\n"
   ]
  },
  {
   "cell_type": "markdown",
   "metadata": {},
   "source": [
    "# Thresholding"
   ]
  },
  {
   "cell_type": "code",
   "execution_count": 25,
   "metadata": {},
   "outputs": [
    {
     "name": "stdout",
     "output_type": "stream",
     "text": [
      "Optimal Threshold for Fairness: 0.130\n",
      "Adjusted Accuracy: 0.77\n",
      "Adjusted AUROC: 0.78\n",
      "Adjusted Classification Report:\n",
      "              precision    recall  f1-score   support\n",
      "\n",
      "         0.0       0.96      0.76      0.85     13679\n",
      "         1.0       0.31      0.79      0.44      1836\n",
      "\n",
      "    accuracy                           0.77     15515\n",
      "   macro avg       0.64      0.78      0.65     15515\n",
      "weighted avg       0.89      0.77      0.80     15515\n",
      "\n",
      "Adjusted Confusion Matrix:\n",
      "[[10428  3251]\n",
      " [  385  1451]]\n"
     ]
    }
   ],
   "source": [
    "from sklearn.metrics import roc_curve\n",
    "\n",
    "# Compute FPR, TPR for African American and Others\n",
    "fpr, tpr, thresholds = roc_curve(y_test, y_pred_reweighted_proba)\n",
    "\n",
    "# Set a new threshold where FPR is balanced\n",
    "optimal_idx = np.argmax(tpr - fpr)  \n",
    "optimal_threshold = thresholds[optimal_idx]\n",
    "\n",
    "print(f\"Optimal Threshold for Fairness: {optimal_threshold:.3f}\")\n",
    "\n",
    "# Apply new threshold\n",
    "y_pred_adjusted = (y_pred_reweighted_proba >= optimal_threshold).astype(int)\n",
    "\n",
    "# Recompute metrics\n",
    "accuracy_adj = accuracy_score(y_test, y_pred_adjusted)\n",
    "auroc_adj = roc_auc_score(y_test, y_pred_adjusted)\n",
    "\n",
    "print(f\"Adjusted Accuracy: {accuracy_adj:.2f}\")\n",
    "print(f\"Adjusted AUROC: {auroc_adj:.2f}\")\n",
    "print(\"Adjusted Classification Report:\")\n",
    "print(classification_report(y_test, y_pred_adjusted))\n",
    "print(\"Adjusted Confusion Matrix:\")\n",
    "print(confusion_matrix(y_test, y_pred_adjusted))\n"
   ]
  },
  {
   "cell_type": "code",
   "execution_count": 27,
   "metadata": {},
   "outputs": [
    {
     "name": "stdout",
     "output_type": "stream",
     "text": [
      "WARNING:tensorflow:From /opt/anaconda3/envs/MLClass/lib/python3.12/site-packages/tensorflow/python/util/dispatch.py:1260: calling dropout (from tensorflow.python.ops.nn_ops) with keep_prob is deprecated and will be removed in a future version.\n",
      "Instructions for updating:\n",
      "Please use `rate` instead of `keep_prob`. Rate should be set to `rate = 1 - keep_prob`.\n"
     ]
    },
    {
     "name": "stderr",
     "output_type": "stream",
     "text": [
      "2025-02-18 14:21:36.923783: I tensorflow/compiler/mlir/mlir_graph_optimization_pass.cc:388] MLIR V1 optimization pass is not enabled\n"
     ]
    },
    {
     "name": "stdout",
     "output_type": "stream",
     "text": [
      "epoch 0; iter: 0; batch classifier loss: 5192.291504; batch adversarial loss: 0.460821\n",
      "epoch 0; iter: 200; batch classifier loss: nan; batch adversarial loss: nan\n",
      "epoch 0; iter: 400; batch classifier loss: nan; batch adversarial loss: nan\n",
      "epoch 0; iter: 600; batch classifier loss: nan; batch adversarial loss: nan\n",
      "epoch 1; iter: 0; batch classifier loss: nan; batch adversarial loss: nan\n",
      "epoch 1; iter: 200; batch classifier loss: nan; batch adversarial loss: nan\n",
      "epoch 1; iter: 400; batch classifier loss: nan; batch adversarial loss: nan\n",
      "epoch 1; iter: 600; batch classifier loss: nan; batch adversarial loss: nan\n",
      "epoch 2; iter: 0; batch classifier loss: nan; batch adversarial loss: nan\n",
      "epoch 2; iter: 200; batch classifier loss: nan; batch adversarial loss: nan\n",
      "epoch 2; iter: 400; batch classifier loss: nan; batch adversarial loss: nan\n",
      "epoch 2; iter: 600; batch classifier loss: nan; batch adversarial loss: nan\n",
      "epoch 3; iter: 0; batch classifier loss: nan; batch adversarial loss: nan\n",
      "epoch 3; iter: 200; batch classifier loss: nan; batch adversarial loss: nan\n",
      "epoch 3; iter: 400; batch classifier loss: nan; batch adversarial loss: nan\n",
      "epoch 3; iter: 600; batch classifier loss: nan; batch adversarial loss: nan\n",
      "epoch 4; iter: 0; batch classifier loss: nan; batch adversarial loss: nan\n",
      "epoch 4; iter: 200; batch classifier loss: nan; batch adversarial loss: nan\n",
      "epoch 4; iter: 400; batch classifier loss: nan; batch adversarial loss: nan\n",
      "epoch 4; iter: 600; batch classifier loss: nan; batch adversarial loss: nan\n",
      "epoch 5; iter: 0; batch classifier loss: nan; batch adversarial loss: nan\n",
      "epoch 5; iter: 200; batch classifier loss: nan; batch adversarial loss: nan\n",
      "epoch 5; iter: 400; batch classifier loss: nan; batch adversarial loss: nan\n",
      "epoch 5; iter: 600; batch classifier loss: nan; batch adversarial loss: nan\n",
      "epoch 6; iter: 0; batch classifier loss: nan; batch adversarial loss: nan\n",
      "epoch 6; iter: 200; batch classifier loss: nan; batch adversarial loss: nan\n",
      "epoch 6; iter: 400; batch classifier loss: nan; batch adversarial loss: nan\n",
      "epoch 6; iter: 600; batch classifier loss: nan; batch adversarial loss: nan\n",
      "epoch 7; iter: 0; batch classifier loss: nan; batch adversarial loss: nan\n",
      "epoch 7; iter: 200; batch classifier loss: nan; batch adversarial loss: nan\n"
     ]
    },
    {
     "ename": "KeyboardInterrupt",
     "evalue": "",
     "output_type": "error",
     "traceback": [
      "\u001b[0;31m---------------------------------------------------------------------------\u001b[0m",
      "\u001b[0;31mKeyboardInterrupt\u001b[0m                         Traceback (most recent call last)",
      "Cell \u001b[0;32mIn[27], line 22\u001b[0m\n\u001b[1;32m     13\u001b[0m sess \u001b[38;5;241m=\u001b[39m tf\u001b[38;5;241m.\u001b[39mSession()\n\u001b[1;32m     14\u001b[0m adv_debiasing \u001b[38;5;241m=\u001b[39m AdversarialDebiasing(\n\u001b[1;32m     15\u001b[0m     privileged_groups\u001b[38;5;241m=\u001b[39m[{\u001b[38;5;124m'\u001b[39m\u001b[38;5;124methnicity_African American\u001b[39m\u001b[38;5;124m'\u001b[39m: \u001b[38;5;241m1\u001b[39m}],\n\u001b[1;32m     16\u001b[0m     unprivileged_groups\u001b[38;5;241m=\u001b[39m[{\u001b[38;5;124m'\u001b[39m\u001b[38;5;124methnicity_African American\u001b[39m\u001b[38;5;124m'\u001b[39m: \u001b[38;5;241m0\u001b[39m}],\n\u001b[0;32m   (...)\u001b[0m\n\u001b[1;32m     19\u001b[0m     sess\u001b[38;5;241m=\u001b[39msess\n\u001b[1;32m     20\u001b[0m )\n\u001b[0;32m---> 22\u001b[0m \u001b[43madv_debiasing\u001b[49m\u001b[38;5;241;43m.\u001b[39;49m\u001b[43mfit\u001b[49m\u001b[43m(\u001b[49m\u001b[43mdataset\u001b[49m\u001b[43m)\u001b[49m\n\u001b[1;32m     24\u001b[0m \u001b[38;5;66;03m# Make Predictions\u001b[39;00m\n\u001b[1;32m     25\u001b[0m y_pred_adv \u001b[38;5;241m=\u001b[39m adv_debiasing\u001b[38;5;241m.\u001b[39mpredict(dataset)\u001b[38;5;241m.\u001b[39mlabels\n",
      "File \u001b[0;32m/opt/anaconda3/envs/MLClass/lib/python3.12/site-packages/aif360/algorithms/transformer.py:27\u001b[0m, in \u001b[0;36maddmetadata.<locals>.wrapper\u001b[0;34m(self, *args, **kwargs)\u001b[0m\n\u001b[1;32m     25\u001b[0m \u001b[38;5;129m@wraps\u001b[39m(func)\n\u001b[1;32m     26\u001b[0m \u001b[38;5;28;01mdef\u001b[39;00m \u001b[38;5;21mwrapper\u001b[39m(\u001b[38;5;28mself\u001b[39m, \u001b[38;5;241m*\u001b[39margs, \u001b[38;5;241m*\u001b[39m\u001b[38;5;241m*\u001b[39mkwargs):\n\u001b[0;32m---> 27\u001b[0m     new_dataset \u001b[38;5;241m=\u001b[39m \u001b[43mfunc\u001b[49m\u001b[43m(\u001b[49m\u001b[38;5;28;43mself\u001b[39;49m\u001b[43m,\u001b[49m\u001b[43m \u001b[49m\u001b[38;5;241;43m*\u001b[39;49m\u001b[43margs\u001b[49m\u001b[43m,\u001b[49m\u001b[43m \u001b[49m\u001b[38;5;241;43m*\u001b[39;49m\u001b[38;5;241;43m*\u001b[39;49m\u001b[43mkwargs\u001b[49m\u001b[43m)\u001b[49m\n\u001b[1;32m     28\u001b[0m     \u001b[38;5;28;01mif\u001b[39;00m \u001b[38;5;28misinstance\u001b[39m(new_dataset, Dataset):\n\u001b[1;32m     29\u001b[0m         new_dataset\u001b[38;5;241m.\u001b[39mmetadata \u001b[38;5;241m=\u001b[39m new_dataset\u001b[38;5;241m.\u001b[39mmetadata\u001b[38;5;241m.\u001b[39mcopy()\n",
      "File \u001b[0;32m/opt/anaconda3/envs/MLClass/lib/python3.12/site-packages/aif360/algorithms/inprocessing/adversarial_debiasing.py:210\u001b[0m, in \u001b[0;36mAdversarialDebiasing.fit\u001b[0;34m(self, dataset)\u001b[0m\n\u001b[1;32m    205\u001b[0m batch_feed_dict \u001b[38;5;241m=\u001b[39m {\u001b[38;5;28mself\u001b[39m\u001b[38;5;241m.\u001b[39mfeatures_ph: batch_features,\n\u001b[1;32m    206\u001b[0m                    \u001b[38;5;28mself\u001b[39m\u001b[38;5;241m.\u001b[39mtrue_labels_ph: batch_labels,\n\u001b[1;32m    207\u001b[0m                    \u001b[38;5;28mself\u001b[39m\u001b[38;5;241m.\u001b[39mprotected_attributes_ph: batch_protected_attributes,\n\u001b[1;32m    208\u001b[0m                    \u001b[38;5;28mself\u001b[39m\u001b[38;5;241m.\u001b[39mkeep_prob: \u001b[38;5;241m0.8\u001b[39m}\n\u001b[1;32m    209\u001b[0m \u001b[38;5;28;01mif\u001b[39;00m \u001b[38;5;28mself\u001b[39m\u001b[38;5;241m.\u001b[39mdebias:\n\u001b[0;32m--> 210\u001b[0m     _, _, pred_labels_loss_value, pred_protected_attributes_loss_vale \u001b[38;5;241m=\u001b[39m \u001b[38;5;28;43mself\u001b[39;49m\u001b[38;5;241;43m.\u001b[39;49m\u001b[43msess\u001b[49m\u001b[38;5;241;43m.\u001b[39;49m\u001b[43mrun\u001b[49m\u001b[43m(\u001b[49m\u001b[43m[\u001b[49m\u001b[43mclassifier_minimizer\u001b[49m\u001b[43m,\u001b[49m\n\u001b[1;32m    211\u001b[0m \u001b[43m                   \u001b[49m\u001b[43madversary_minimizer\u001b[49m\u001b[43m,\u001b[49m\n\u001b[1;32m    212\u001b[0m \u001b[43m                   \u001b[49m\u001b[43mpred_labels_loss\u001b[49m\u001b[43m,\u001b[49m\n\u001b[1;32m    213\u001b[0m \u001b[43m                   \u001b[49m\u001b[43mpred_protected_attributes_loss\u001b[49m\u001b[43m]\u001b[49m\u001b[43m,\u001b[49m\u001b[43m \u001b[49m\u001b[43mfeed_dict\u001b[49m\u001b[38;5;241;43m=\u001b[39;49m\u001b[43mbatch_feed_dict\u001b[49m\u001b[43m)\u001b[49m\n\u001b[1;32m    214\u001b[0m     \u001b[38;5;28;01mif\u001b[39;00m i \u001b[38;5;241m%\u001b[39m \u001b[38;5;241m200\u001b[39m \u001b[38;5;241m==\u001b[39m \u001b[38;5;241m0\u001b[39m:\n\u001b[1;32m    215\u001b[0m         \u001b[38;5;28mprint\u001b[39m(\u001b[38;5;124m\"\u001b[39m\u001b[38;5;124mepoch \u001b[39m\u001b[38;5;132;01m%d\u001b[39;00m\u001b[38;5;124m; iter: \u001b[39m\u001b[38;5;132;01m%d\u001b[39;00m\u001b[38;5;124m; batch classifier loss: \u001b[39m\u001b[38;5;132;01m%f\u001b[39;00m\u001b[38;5;124m; batch adversarial loss: \u001b[39m\u001b[38;5;132;01m%f\u001b[39;00m\u001b[38;5;124m\"\u001b[39m \u001b[38;5;241m%\u001b[39m (epoch, i, pred_labels_loss_value,\n\u001b[1;32m    216\u001b[0m                                                                  pred_protected_attributes_loss_vale))\n",
      "File \u001b[0;32m/opt/anaconda3/envs/MLClass/lib/python3.12/site-packages/tensorflow/python/client/session.py:971\u001b[0m, in \u001b[0;36mBaseSession.run\u001b[0;34m(self, fetches, feed_dict, options, run_metadata)\u001b[0m\n\u001b[1;32m    968\u001b[0m run_metadata_ptr \u001b[38;5;241m=\u001b[39m tf_session\u001b[38;5;241m.\u001b[39mTF_NewBuffer() \u001b[38;5;28;01mif\u001b[39;00m run_metadata \u001b[38;5;28;01melse\u001b[39;00m \u001b[38;5;28;01mNone\u001b[39;00m\n\u001b[1;32m    970\u001b[0m \u001b[38;5;28;01mtry\u001b[39;00m:\n\u001b[0;32m--> 971\u001b[0m   result \u001b[38;5;241m=\u001b[39m \u001b[38;5;28;43mself\u001b[39;49m\u001b[38;5;241;43m.\u001b[39;49m\u001b[43m_run\u001b[49m\u001b[43m(\u001b[49m\u001b[38;5;28;43;01mNone\u001b[39;49;00m\u001b[43m,\u001b[49m\u001b[43m \u001b[49m\u001b[43mfetches\u001b[49m\u001b[43m,\u001b[49m\u001b[43m \u001b[49m\u001b[43mfeed_dict\u001b[49m\u001b[43m,\u001b[49m\u001b[43m \u001b[49m\u001b[43moptions_ptr\u001b[49m\u001b[43m,\u001b[49m\n\u001b[1;32m    972\u001b[0m \u001b[43m                     \u001b[49m\u001b[43mrun_metadata_ptr\u001b[49m\u001b[43m)\u001b[49m\n\u001b[1;32m    973\u001b[0m   \u001b[38;5;28;01mif\u001b[39;00m run_metadata:\n\u001b[1;32m    974\u001b[0m     proto_data \u001b[38;5;241m=\u001b[39m tf_session\u001b[38;5;241m.\u001b[39mTF_GetBuffer(run_metadata_ptr)\n",
      "File \u001b[0;32m/opt/anaconda3/envs/MLClass/lib/python3.12/site-packages/tensorflow/python/client/session.py:1214\u001b[0m, in \u001b[0;36mBaseSession._run\u001b[0;34m(self, handle, fetches, feed_dict, options, run_metadata)\u001b[0m\n\u001b[1;32m   1211\u001b[0m \u001b[38;5;66;03m# We only want to really perform the run if fetches or targets are provided,\u001b[39;00m\n\u001b[1;32m   1212\u001b[0m \u001b[38;5;66;03m# or if the call is a partial run that specifies feeds.\u001b[39;00m\n\u001b[1;32m   1213\u001b[0m \u001b[38;5;28;01mif\u001b[39;00m final_fetches \u001b[38;5;129;01mor\u001b[39;00m final_targets \u001b[38;5;129;01mor\u001b[39;00m (handle \u001b[38;5;129;01mand\u001b[39;00m feed_dict_tensor):\n\u001b[0;32m-> 1214\u001b[0m   results \u001b[38;5;241m=\u001b[39m \u001b[38;5;28;43mself\u001b[39;49m\u001b[38;5;241;43m.\u001b[39;49m\u001b[43m_do_run\u001b[49m\u001b[43m(\u001b[49m\u001b[43mhandle\u001b[49m\u001b[43m,\u001b[49m\u001b[43m \u001b[49m\u001b[43mfinal_targets\u001b[49m\u001b[43m,\u001b[49m\u001b[43m \u001b[49m\u001b[43mfinal_fetches\u001b[49m\u001b[43m,\u001b[49m\n\u001b[1;32m   1215\u001b[0m \u001b[43m                         \u001b[49m\u001b[43mfeed_dict_tensor\u001b[49m\u001b[43m,\u001b[49m\u001b[43m \u001b[49m\u001b[43moptions\u001b[49m\u001b[43m,\u001b[49m\u001b[43m \u001b[49m\u001b[43mrun_metadata\u001b[49m\u001b[43m)\u001b[49m\n\u001b[1;32m   1216\u001b[0m \u001b[38;5;28;01melse\u001b[39;00m:\n\u001b[1;32m   1217\u001b[0m   results \u001b[38;5;241m=\u001b[39m []\n",
      "File \u001b[0;32m/opt/anaconda3/envs/MLClass/lib/python3.12/site-packages/tensorflow/python/client/session.py:1394\u001b[0m, in \u001b[0;36mBaseSession._do_run\u001b[0;34m(self, handle, target_list, fetch_list, feed_dict, options, run_metadata)\u001b[0m\n\u001b[1;32m   1391\u001b[0m   \u001b[38;5;28;01mreturn\u001b[39;00m \u001b[38;5;28mself\u001b[39m\u001b[38;5;241m.\u001b[39m_call_tf_sessionprun(handle, feed_dict, fetch_list)\n\u001b[1;32m   1393\u001b[0m \u001b[38;5;28;01mif\u001b[39;00m handle \u001b[38;5;129;01mis\u001b[39;00m \u001b[38;5;28;01mNone\u001b[39;00m:\n\u001b[0;32m-> 1394\u001b[0m   \u001b[38;5;28;01mreturn\u001b[39;00m \u001b[38;5;28;43mself\u001b[39;49m\u001b[38;5;241;43m.\u001b[39;49m\u001b[43m_do_call\u001b[49m\u001b[43m(\u001b[49m\u001b[43m_run_fn\u001b[49m\u001b[43m,\u001b[49m\u001b[43m \u001b[49m\u001b[43mfeeds\u001b[49m\u001b[43m,\u001b[49m\u001b[43m \u001b[49m\u001b[43mfetches\u001b[49m\u001b[43m,\u001b[49m\u001b[43m \u001b[49m\u001b[43mtargets\u001b[49m\u001b[43m,\u001b[49m\u001b[43m \u001b[49m\u001b[43moptions\u001b[49m\u001b[43m,\u001b[49m\n\u001b[1;32m   1395\u001b[0m \u001b[43m                       \u001b[49m\u001b[43mrun_metadata\u001b[49m\u001b[43m)\u001b[49m\n\u001b[1;32m   1396\u001b[0m \u001b[38;5;28;01melse\u001b[39;00m:\n\u001b[1;32m   1397\u001b[0m   \u001b[38;5;28;01mreturn\u001b[39;00m \u001b[38;5;28mself\u001b[39m\u001b[38;5;241m.\u001b[39m_do_call(_prun_fn, handle, feeds, fetches)\n",
      "File \u001b[0;32m/opt/anaconda3/envs/MLClass/lib/python3.12/site-packages/tensorflow/python/client/session.py:1401\u001b[0m, in \u001b[0;36mBaseSession._do_call\u001b[0;34m(self, fn, *args)\u001b[0m\n\u001b[1;32m   1399\u001b[0m \u001b[38;5;28;01mdef\u001b[39;00m \u001b[38;5;21m_do_call\u001b[39m(\u001b[38;5;28mself\u001b[39m, fn, \u001b[38;5;241m*\u001b[39margs):\n\u001b[1;32m   1400\u001b[0m   \u001b[38;5;28;01mtry\u001b[39;00m:\n\u001b[0;32m-> 1401\u001b[0m     \u001b[38;5;28;01mreturn\u001b[39;00m \u001b[43mfn\u001b[49m\u001b[43m(\u001b[49m\u001b[38;5;241;43m*\u001b[39;49m\u001b[43margs\u001b[49m\u001b[43m)\u001b[49m\n\u001b[1;32m   1402\u001b[0m   \u001b[38;5;28;01mexcept\u001b[39;00m errors\u001b[38;5;241m.\u001b[39mOpError \u001b[38;5;28;01mas\u001b[39;00m e:\n\u001b[1;32m   1403\u001b[0m     message \u001b[38;5;241m=\u001b[39m compat\u001b[38;5;241m.\u001b[39mas_text(e\u001b[38;5;241m.\u001b[39mmessage)\n",
      "File \u001b[0;32m/opt/anaconda3/envs/MLClass/lib/python3.12/site-packages/tensorflow/python/client/session.py:1384\u001b[0m, in \u001b[0;36mBaseSession._do_run.<locals>._run_fn\u001b[0;34m(feed_dict, fetch_list, target_list, options, run_metadata)\u001b[0m\n\u001b[1;32m   1381\u001b[0m \u001b[38;5;28;01mdef\u001b[39;00m \u001b[38;5;21m_run_fn\u001b[39m(feed_dict, fetch_list, target_list, options, run_metadata):\n\u001b[1;32m   1382\u001b[0m   \u001b[38;5;66;03m# Ensure any changes to the graph are reflected in the runtime.\u001b[39;00m\n\u001b[1;32m   1383\u001b[0m   \u001b[38;5;28mself\u001b[39m\u001b[38;5;241m.\u001b[39m_extend_graph()\n\u001b[0;32m-> 1384\u001b[0m   \u001b[38;5;28;01mreturn\u001b[39;00m \u001b[38;5;28;43mself\u001b[39;49m\u001b[38;5;241;43m.\u001b[39;49m\u001b[43m_call_tf_sessionrun\u001b[49m\u001b[43m(\u001b[49m\u001b[43moptions\u001b[49m\u001b[43m,\u001b[49m\u001b[43m \u001b[49m\u001b[43mfeed_dict\u001b[49m\u001b[43m,\u001b[49m\u001b[43m \u001b[49m\u001b[43mfetch_list\u001b[49m\u001b[43m,\u001b[49m\n\u001b[1;32m   1385\u001b[0m \u001b[43m                                  \u001b[49m\u001b[43mtarget_list\u001b[49m\u001b[43m,\u001b[49m\u001b[43m \u001b[49m\u001b[43mrun_metadata\u001b[49m\u001b[43m)\u001b[49m\n",
      "File \u001b[0;32m/opt/anaconda3/envs/MLClass/lib/python3.12/site-packages/tensorflow/python/client/session.py:1477\u001b[0m, in \u001b[0;36mBaseSession._call_tf_sessionrun\u001b[0;34m(self, options, feed_dict, fetch_list, target_list, run_metadata)\u001b[0m\n\u001b[1;32m   1475\u001b[0m \u001b[38;5;28;01mdef\u001b[39;00m \u001b[38;5;21m_call_tf_sessionrun\u001b[39m(\u001b[38;5;28mself\u001b[39m, options, feed_dict, fetch_list, target_list,\n\u001b[1;32m   1476\u001b[0m                         run_metadata):\n\u001b[0;32m-> 1477\u001b[0m   \u001b[38;5;28;01mreturn\u001b[39;00m \u001b[43mtf_session\u001b[49m\u001b[38;5;241;43m.\u001b[39;49m\u001b[43mTF_SessionRun_wrapper\u001b[49m\u001b[43m(\u001b[49m\u001b[38;5;28;43mself\u001b[39;49m\u001b[38;5;241;43m.\u001b[39;49m\u001b[43m_session\u001b[49m\u001b[43m,\u001b[49m\u001b[43m \u001b[49m\u001b[43moptions\u001b[49m\u001b[43m,\u001b[49m\u001b[43m \u001b[49m\u001b[43mfeed_dict\u001b[49m\u001b[43m,\u001b[49m\n\u001b[1;32m   1478\u001b[0m \u001b[43m                                          \u001b[49m\u001b[43mfetch_list\u001b[49m\u001b[43m,\u001b[49m\u001b[43m \u001b[49m\u001b[43mtarget_list\u001b[49m\u001b[43m,\u001b[49m\n\u001b[1;32m   1479\u001b[0m \u001b[43m                                          \u001b[49m\u001b[43mrun_metadata\u001b[49m\u001b[43m)\u001b[49m\n",
      "\u001b[0;31mKeyboardInterrupt\u001b[0m: "
     ]
    }
   ],
   "source": [
    "from aif360.algorithms.inprocessing import AdversarialDebiasing\n",
    "import tensorflow.compat.v1 as tf\n",
    "tf.disable_eager_execution()\n",
    "\n",
    "# Convert dataset to aif360 format\n",
    "dataset = BinaryLabelDataset(\n",
    "    df=data_altered,\n",
    "    label_names=['hospital_death'],\n",
    "    protected_attribute_names=['ethnicity_African American']\n",
    ")\n",
    "\n",
    "# Train Adversarial Debiasing Model\n",
    "sess = tf.Session()\n",
    "adv_debiasing = AdversarialDebiasing(\n",
    "    privileged_groups=[{'ethnicity_African American': 1}],\n",
    "    unprivileged_groups=[{'ethnicity_African American': 0}],\n",
    "    scope_name='debiased_classifier',\n",
    "    debias=True,\n",
    "    sess=sess\n",
    ")\n",
    "\n",
    "adv_debiasing.fit(dataset)\n",
    "\n",
    "# Make Predictions\n",
    "y_pred_adv = adv_debiasing.predict(dataset).labels\n",
    "\n",
    "# Evaluate\n",
    "accuracy_adv = accuracy_score(y_test, y_pred_adv)\n",
    "print(f\"Adversarial Debiasing Accuracy: {accuracy_adv:.2f}\")\n"
   ]
  },
  {
   "cell_type": "markdown",
   "metadata": {},
   "source": [
    "# Comparing metrics after reweighting"
   ]
  },
  {
   "cell_type": "code",
   "execution_count": 26,
   "metadata": {},
   "outputs": [
    {
     "name": "stdout",
     "output_type": "stream",
     "text": [
      "Bias Metrics Comparison\n",
      "                    Ethnicity  Disparate Impact_Original  \\\n",
      "0  ethnicity_African American                   0.775735   \n",
      "1             ethnicity_Asian                   0.778643   \n",
      "2         ethnicity_Caucasian                   0.772017   \n",
      "3          ethnicity_Hispanic                   0.811813   \n",
      "4   ethnicity_Native American                   0.847340   \n",
      "\n",
      "   Disparate Impact_Biased  Disparate Impact_Reweighted  \\\n",
      "0                 0.575579                     0.163076   \n",
      "1                 0.700778                     0.345954   \n",
      "2                 0.855206                     0.319890   \n",
      "3                 0.885069                     0.694637   \n",
      "4                 0.635167                     0.841521   \n",
      "\n",
      "   Equalized Odds Diff_Original  Equalized Odds Diff_Biased  \\\n",
      "0                      0.190324                    0.107304   \n",
      "1                      0.010683                    0.174119   \n",
      "2                      0.157528                    0.072113   \n",
      "3                      0.147853                    0.082033   \n",
      "4                      0.161446                    0.042634   \n",
      "\n",
      "   Equalized Odds Diff_Reweighted  Demographic Parity Diff_Original  \\\n",
      "0                        0.140686                          0.007004   \n",
      "1                        0.070705                          0.006769   \n",
      "2                        0.047813                          0.007328   \n",
      "3                        0.038731                          0.007005   \n",
      "4                        0.130778                          0.004659   \n",
      "\n",
      "   Demographic Parity Diff_Biased  Demographic Parity Diff_Reweighted  \n",
      "0                        0.083290                            0.135854  \n",
      "1                        0.036599                            0.027008  \n",
      "2                        0.019865                            0.058777  \n",
      "3                        0.014062                            0.012645  \n",
      "4                        0.044565                            0.006494  \n"
     ]
    },
    {
     "data": {
      "image/png": "[encoded data removed]",
      "text/plain": [
       "<Figure size 1800x600 with 3 Axes>"
      ]
     },
     "metadata": {},
     "output_type": "display_data"
    }
   ],
   "source": [
    "from fairlearn.metrics import demographic_parity_difference, equalized_odds_difference\n",
    "import matplotlib.pyplot as plt\n",
    "import pandas as pd\n",
    "\n",
    "# List of ethnic groups to analyze\n",
    "ethnicity_columns = [\n",
    "    'ethnicity_African American',\n",
    "    'ethnicity_Asian',\n",
    "    'ethnicity_Caucasian',\n",
    "    'ethnicity_Hispanic',\n",
    "    'ethnicity_Native American'\n",
    "]\n",
    "\n",
    "# Function to compute bias metrics per ethnic group\n",
    "def compute_bias_metrics(y_test, y_pred_orig, y_pred_bias, y_pred_reweighted, ethnicity_columns):\n",
    "    \"\"\"Computes Disparate Impact, Equalized Odds Difference, and Demographic Parity Difference per ethnicity.\"\"\"\n",
    "    bias_results = []\n",
    "\n",
    "    for ethnicity in ethnicity_columns:\n",
    "        di_orig = disparate_impact(y_test, y_pred_orig, ethnicity)\n",
    "        di_bias = disparate_impact(y_test, y_pred_bias, ethnicity)\n",
    "        di_reweighted = disparate_impact(y_test, y_pred_reweighted,ethnicity)\n",
    "\n",
    "        eo_orig = equalized_odds_difference(y_test, y_pred_orig, sensitive_features=X_test[ethnicity])\n",
    "        eo_bias = equalized_odds_difference(y_test, y_pred_bias, sensitive_features=X_test[ethnicity])\n",
    "        eo_reweighted = equalized_odds_difference(y_test, y_pred_reweighted, sensitive_features=X_test[ethnicity])\n",
    "\n",
    "        dp_orig = demographic_parity_difference(y_test, y_pred_orig, sensitive_features=X_test[ethnicity])\n",
    "        dp_bias = demographic_parity_difference(y_test, y_pred_bias, sensitive_features=X_test[ethnicity])\n",
    "        dp_reweighted = demographic_parity_difference(y_test, y_pred_reweighted, sensitive_features=X_test[ethnicity])\n",
    "\n",
    "        bias_results.append({\n",
    "            \"Ethnicity\": ethnicity,\n",
    "            \"Disparate Impact_Original\": di_orig,\n",
    "            \"Disparate Impact_Biased\": di_bias,\n",
    "            \"Disparate Impact_Reweighted\": di_reweighted,\n",
    "            \"Equalized Odds Diff_Original\": eo_orig,\n",
    "            \"Equalized Odds Diff_Biased\": eo_bias,\n",
    "            \"Equalized Odds Diff_Reweighted\": eo_reweighted,\n",
    "            \"Demographic Parity Diff_Original\": dp_orig,\n",
    "            \"Demographic Parity Diff_Biased\": dp_bias,\n",
    "            \"Demographic Parity Diff_Reweighted\": dp_reweighted\n",
    "        })\n",
    "\n",
    "    return pd.DataFrame(bias_results)\n",
    "\n",
    "# Compute bias metrics for all ethnic groups\n",
    "bias_results_df = compute_bias_metrics(y_test, y_pred_orig, y_pred_bias, y_pred_reweighted, ethnicity_columns)\n",
    "\n",
    "# Display Bias Metrics\n",
    "print(\"Bias Metrics Comparison\")\n",
    "print(bias_results_df)\n",
    "\n",
    "## Visualization Fix\n",
    "fig, axes = plt.subplots(1, 3, figsize=(18, 6))\n",
    "\n",
    "metrics = [\"Disparate Impact\", \"Equalized Odds Diff\", \"Demographic Parity Diff\"]\n",
    "columns = [\n",
    "    (\"Disparate Impact_Original\", \"Disparate Impact_Biased\", \"Disparate Impact_Reweighted\"),\n",
    "    (\"Equalized Odds Diff_Original\", \"Equalized Odds Diff_Biased\", \"Equalized Odds Diff_Reweighted\"),\n",
    "    (\"Demographic Parity Diff_Original\", \"Demographic Parity Diff_Biased\", \"Demographic Parity Diff_Reweighted\"),\n",
    "]\n",
    "\n",
    "for i, (metric, (orig_col, bias_col, reweighted_col)) in enumerate(zip(metrics, columns)):\n",
    "    ax = axes[i]\n",
    "    bias_results_df.plot(\n",
    "        kind=\"bar\", x=\"Ethnicity\", y=[orig_col, bias_col, reweighted_col],\n",
    "        color=[\"blue\", \"red\", \"green\"], alpha=0.7, ax=ax\n",
    "    )\n",
    "    ax.set_title(metric)\n",
    "    ax.set_ylabel(\"Metric Value\")\n",
    "    ax.set_xticklabels(bias_results_df[\"Ethnicity\"], rotation=45, ha=\"right\")\n",
    "    ax.legend([\"Original Model\", \"Biased Model\", \"Reweighted Model\"])\n",
    "    \n",
    "    # Add consistent y-axis scaling\n",
    "    ax.set_ylim(0, 1)\n",
    "\n",
    "plt.tight_layout()\n",
    "plt.show()\n"
   ]
  },
  {
   "cell_type": "code",
   "execution_count": null,
   "metadata": {},
   "outputs": [],
   "source": []
  }
 ],
 "metadata": {
  "kernelspec": {
   "display_name": "MLClass",
   "language": "python",
   "name": "python3"
  },
  "language_info": {
   "codemirror_mode": {
    "name": "ipython",
    "version": 3
   },
   "file_extension": ".py",
   "mimetype": "text/x-python",
   "name": "python",
   "nbconvert_exporter": "python",
   "pygments_lexer": "ipython3",
   "version": "3.12.5"
  }
 },
 "nbformat": 4,
 "nbformat_minor": 2
}
