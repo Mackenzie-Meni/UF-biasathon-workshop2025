{
 "cells": [
  {
   "cell_type": "markdown",
   "metadata": {},
   "source": [
    "# **Notebook 1: Exploratory Data Analysis (EDA)**"
   ]
  },
  {
   "cell_type": "markdown",
   "metadata": {},
   "source": [
    "## **Welcome to the Bias-Athon 2025 - Exploratory Data Analysis!**"
   ]
  },
  {
   "cell_type": "markdown",
   "metadata": {
    "vscode": {
     "languageId": "plaintext"
    }
   },
   "source": [
    "### Import Libraries"
   ]
  },
  {
   "cell_type": "code",
   "execution_count": null,
   "metadata": {},
   "outputs": [],
   "source": [
    "import pandas as pd\n",
    "import numpy as np\n",
    "import matplotlib.pyplot as plt\n",
    "from tableone import TableOne\n",
    "import warnings\n",
    "warnings.filterwarnings(\"ignore\")"
   ]
  },
  {
   "cell_type": "markdown",
   "metadata": {},
   "source": [
    "### Load Train Data"
   ]
  },
  {
   "cell_type": "code",
   "execution_count": null,
   "metadata": {},
   "outputs": [],
   "source": [
    "data = pd.read_csv('data_split/wids_train.csv')\n",
    "\n",
    "\n",
    "# Display the first few rows of the dataset\n",
    "data.head()"
   ]
  },
  {
   "cell_type": "markdown",
   "metadata": {},
   "source": [
    "### Data visualizations (Table One)"
   ]
  },
  {
   "cell_type": "code",
   "execution_count": null,
   "metadata": {},
   "outputs": [],
   "source": [
    "# Define Columns for Table One\n",
    "columns = ['age', 'bmi', 'ethnicity', 'gender', 'hospital_death', 'd1_spo2_min', 'd1_spo2_min_new', 'd1_lactate_max', 'd1_lactate_max_new']\n",
    "categorical = ['gender', 'ethnicity']\n",
    "groupby = ['hospital_death']\n",
    "nonnormal = ['bmi']\n",
    "labels = {\n",
    "    'hospital_death': \"Mortality\",\n",
    "    'age': \"Age\",\n",
    "    'ethnicity': \"Race and Ethnicity\",\n",
    "    'bmi': \"BMI\",\n",
    "    'gender': \"Sex\",\n",
    "    'd1_spo2_min': \"Original SpO2 Min\",\n",
    "    'd1_spo2_min_new': \"Biased SpO2 Min\",\n",
    "    'd1_lactate_max': \"Original Lactate Max\",\n",
    "    'd1_lactate_max_new': \"Biased Lactate Max\",\n",
    "}"
   ]
  },
  {
   "cell_type": "code",
   "execution_count": null,
   "metadata": {},
   "outputs": [],
   "source": [
    "# Generate Table One\n",
    "table1 = TableOne(data, columns=columns, categorical=categorical, groupby=groupby, nonnormal=nonnormal, rename=labels, overall=True, missing=True, pval=True, decimals=2)\n",
    "print(table1)\n"
   ]
  },
  {
   "cell_type": "markdown",
   "metadata": {},
   "source": [
    "### Visualize Mortality per Ethnic Group (Normalized)"
   ]
  },
  {
   "cell_type": "code",
   "execution_count": null,
   "metadata": {},
   "outputs": [],
   "source": [
    "mortality_per_ethnicity = data.groupby('ethnicity')['hospital_death'].mean()\n",
    "plt.figure(figsize=(10, 6))\n",
    "mortality_per_ethnicity.plot(kind='bar', color='skyblue')\n",
    "plt.xlabel('Ethnicity')\n",
    "plt.ylabel('Mean Hospital Deaths')\n",
    "plt.title('Mean Mortality per Ethnic Group')\n",
    "plt.xticks(rotation=45)\n",
    "plt.show()"
   ]
  },
  {
   "cell_type": "markdown",
   "metadata": {},
   "source": [
    "### Visualize Original vs Biased SpO2 Distributions"
   ]
  },
  {
   "cell_type": "code",
   "execution_count": null,
   "metadata": {},
   "outputs": [],
   "source": [
    "\n",
    "plt.figure(figsize=(10, 6))\n",
    "plt.hist(data['d1_spo2_min'], bins=20, alpha=0.5, label=\"Original SpO2 Min\", color='blue')\n",
    "plt.hist(data['d1_spo2_min_new'], bins=20, alpha=0.5, label=\"Biased SpO2 Min\", color='orange')\n",
    "plt.xlabel('SpO2 Min')\n",
    "plt.ylabel('Frequency')\n",
    "plt.title('Distribution of Original vs Biased SpO2 Min')\n",
    "plt.legend()\n",
    "plt.show()\n"
   ]
  },
  {
   "cell_type": "markdown",
   "metadata": {},
   "source": [
    "### Visualize Original vs Biased Lactate Distributions"
   ]
  },
  {
   "cell_type": "code",
   "execution_count": null,
   "metadata": {},
   "outputs": [],
   "source": [
    "\n",
    "plt.figure(figsize=(10, 6))\n",
    "plt.hist(data['d1_lactate_max'].dropna(), bins=20, alpha=0.5, label=\"Original Lactate Max\", color='green')\n",
    "plt.hist(data['d1_lactate_max_new'].dropna(), bins=20, alpha=0.5, label=\"Biased Lactate Max\", color='red')\n",
    "plt.xlabel('Lactate Max')\n",
    "plt.ylabel('Frequency')\n",
    "plt.title('Distribution of Original vs Biased Lactate Max')\n",
    "plt.legend()\n",
    "plt.show()"
   ]
  },
  {
   "cell_type": "markdown",
   "metadata": {},
   "source": [
    "### Explore additional plots: Add your team's visualizations below\n",
    " **Example: Distribution of BMI by Ethnicity**"
   ]
  },
  {
   "cell_type": "code",
   "execution_count": null,
   "metadata": {},
   "outputs": [],
   "source": [
    "plt.figure(figsize=(10, 6))\n",
    "for ethnicity in data['ethnicity'].unique():\n",
    "    subset = data[data['ethnicity'] == ethnicity]\n",
    "    plt.hist(subset['bmi'], alpha=0.5, label=ethnicity)\n",
    "plt.legend()\n",
    "plt.xlabel('BMI')\n",
    "plt.ylabel('Frequency')\n",
    "plt.title('BMI Distribution by Ethnicity')\n",
    "plt.show()\n"
   ]
  }
 ],
 "metadata": {
  "language_info": {
   "name": "python"
  }
 },
 "nbformat": 4,
 "nbformat_minor": 2
}
